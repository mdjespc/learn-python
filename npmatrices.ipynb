{
  "nbformat": 4,
  "nbformat_minor": 0,
  "metadata": {
    "colab": {
      "name": "npmatrices.ipynb",
      "provenance": [],
      "authorship_tag": "ABX9TyOLURIhO800DzZ6k/VSj/0L",
      "include_colab_link": true
    },
    "kernelspec": {
      "name": "python3",
      "display_name": "Python 3"
    },
    "language_info": {
      "name": "python"
    }
  },
  "cells": [
    {
      "cell_type": "markdown",
      "metadata": {
        "id": "view-in-github",
        "colab_type": "text"
      },
      "source": [
        "<a href=\"https://colab.research.google.com/github/mdjespc/tutoring/blob/main/npmatrices.ipynb\" target=\"_parent\"><img src=\"https://colab.research.google.com/assets/colab-badge.svg\" alt=\"Open In Colab\"/></a>"
      ]
    },
    {
      "cell_type": "code",
      "metadata": {
        "id": "lpL4Ubek0zOq"
      },
      "source": [
        "import numpy as np\n",
        "from numpy import random as r"
      ],
      "execution_count": 60,
      "outputs": []
    },
    {
      "cell_type": "code",
      "metadata": {
        "colab": {
          "base_uri": "https://localhost:8080/"
        },
        "id": "yWuq9wlBjuGb",
        "outputId": "dd607e94-4c9d-4187-9c6d-cc33c4f9de3b"
      },
      "source": [
        "v = r.randint(0, 101, 10)\n",
        "v"
      ],
      "execution_count": 61,
      "outputs": [
        {
          "output_type": "execute_result",
          "data": {
            "text/plain": [
              "array([ 7, 53, 28, 66, 87, 78, 24, 16, 16, 39])"
            ]
          },
          "metadata": {},
          "execution_count": 61
        }
      ]
    },
    {
      "cell_type": "code",
      "metadata": {
        "colab": {
          "base_uri": "https://localhost:8080/"
        },
        "id": "cveEBFxFmKPa",
        "outputId": "819d6492-f347-49fc-c307-a74a407a1be3"
      },
      "source": [
        "#                       GENERATOR\n",
        "v_2 = np.fromiter((v[i] for i in range(1, len(v), 2)), dtype = int)\n",
        "v_2"
      ],
      "execution_count": 62,
      "outputs": [
        {
          "output_type": "execute_result",
          "data": {
            "text/plain": [
              "array([53, 66, 78, 16, 39])"
            ]
          },
          "metadata": {},
          "execution_count": 62
        }
      ]
    },
    {
      "cell_type": "code",
      "metadata": {
        "colab": {
          "base_uri": "https://localhost:8080/"
        },
        "id": "ORI6TkYcr4NU",
        "outputId": "23a27927-029d-4406-c59c-3c417515980e"
      },
      "source": [
        "v_3 = np.flip(v_2)\n",
        "v_3"
      ],
      "execution_count": 63,
      "outputs": [
        {
          "output_type": "execute_result",
          "data": {
            "text/plain": [
              "array([39, 16, 78, 66, 53])"
            ]
          },
          "metadata": {},
          "execution_count": 63
        }
      ]
    },
    {
      "cell_type": "code",
      "metadata": {
        "colab": {
          "base_uri": "https://localhost:8080/"
        },
        "id": "BI3z_NjSs9Nz",
        "outputId": "988f3d61-d877-4958-ddd8-8d433fd99a96"
      },
      "source": [
        "dim = 5\n",
        "m = np.linspace(6, 21, dim**2, dtype = float).reshape(dim, dim)\n",
        "m = np.asmatrix(m)\n",
        "m"
      ],
      "execution_count": 64,
      "outputs": [
        {
          "output_type": "execute_result",
          "data": {
            "text/plain": [
              "matrix([[ 6.   ,  6.625,  7.25 ,  7.875,  8.5  ],\n",
              "        [ 9.125,  9.75 , 10.375, 11.   , 11.625],\n",
              "        [12.25 , 12.875, 13.5  , 14.125, 14.75 ],\n",
              "        [15.375, 16.   , 16.625, 17.25 , 17.875],\n",
              "        [18.5  , 19.125, 19.75 , 20.375, 21.   ]])"
            ]
          },
          "metadata": {},
          "execution_count": 64
        }
      ]
    },
    {
      "cell_type": "code",
      "metadata": {
        "colab": {
          "base_uri": "https://localhost:8080/"
        },
        "id": "BCh4-96kwBCn",
        "outputId": "222b2d9c-f554-4687-ab73-6d0a52d7d081"
      },
      "source": [
        "m_2 = np.flip(m, 1)\n",
        "m_2"
      ],
      "execution_count": 65,
      "outputs": [
        {
          "output_type": "execute_result",
          "data": {
            "text/plain": [
              "matrix([[ 8.5  ,  7.875,  7.25 ,  6.625,  6.   ],\n",
              "        [11.625, 11.   , 10.375,  9.75 ,  9.125],\n",
              "        [14.75 , 14.125, 13.5  , 12.875, 12.25 ],\n",
              "        [17.875, 17.25 , 16.625, 16.   , 15.375],\n",
              "        [21.   , 20.375, 19.75 , 19.125, 18.5  ]])"
            ]
          },
          "metadata": {},
          "execution_count": 65
        }
      ]
    },
    {
      "cell_type": "code",
      "metadata": {
        "colab": {
          "base_uri": "https://localhost:8080/"
        },
        "id": "p7A6aSVGtl32",
        "outputId": "232c1840-e6f2-490e-b376-02a8b08c8204"
      },
      "source": [
        "m_3 = np.flip(m, 0)\n",
        "m_3"
      ],
      "execution_count": 66,
      "outputs": [
        {
          "output_type": "execute_result",
          "data": {
            "text/plain": [
              "matrix([[18.5  , 19.125, 19.75 , 20.375, 21.   ],\n",
              "        [15.375, 16.   , 16.625, 17.25 , 17.875],\n",
              "        [12.25 , 12.875, 13.5  , 14.125, 14.75 ],\n",
              "        [ 9.125,  9.75 , 10.375, 11.   , 11.625],\n",
              "        [ 6.   ,  6.625,  7.25 ,  7.875,  8.5  ]])"
            ]
          },
          "metadata": {},
          "execution_count": 66
        }
      ]
    },
    {
      "cell_type": "code",
      "metadata": {
        "colab": {
          "base_uri": "https://localhost:8080/"
        },
        "id": "hGFarFdvupl1",
        "outputId": "1761cd19-692b-4b0a-a374-9b15bf08196e"
      },
      "source": [
        "m_4 = np.flip(m)\n",
        "m_4"
      ],
      "execution_count": 67,
      "outputs": [
        {
          "output_type": "execute_result",
          "data": {
            "text/plain": [
              "matrix([[21.   , 20.375, 19.75 , 19.125, 18.5  ],\n",
              "        [17.875, 17.25 , 16.625, 16.   , 15.375],\n",
              "        [14.75 , 14.125, 13.5  , 12.875, 12.25 ],\n",
              "        [11.625, 11.   , 10.375,  9.75 ,  9.125],\n",
              "        [ 8.5  ,  7.875,  7.25 ,  6.625,  6.   ]])"
            ]
          },
          "metadata": {},
          "execution_count": 67
        }
      ]
    },
    {
      "cell_type": "code",
      "metadata": {
        "colab": {
          "base_uri": "https://localhost:8080/"
        },
        "id": "HLn61TevvlND",
        "outputId": "7bf73a6d-8e88-42c5-dc10-46a7167d699f"
      },
      "source": [
        "#The transpose of m is a matrix where the rows are turned into columns \n",
        "m_5 = m.T #ndarray.T ----> 'matrix' inherits 'ndarray'\n",
        "m, m_5"
      ],
      "execution_count": 68,
      "outputs": [
        {
          "output_type": "execute_result",
          "data": {
            "text/plain": [
              "(matrix([[ 6.   ,  6.625,  7.25 ,  7.875,  8.5  ],\n",
              "         [ 9.125,  9.75 , 10.375, 11.   , 11.625],\n",
              "         [12.25 , 12.875, 13.5  , 14.125, 14.75 ],\n",
              "         [15.375, 16.   , 16.625, 17.25 , 17.875],\n",
              "         [18.5  , 19.125, 19.75 , 20.375, 21.   ]]),\n",
              " matrix([[ 6.   ,  9.125, 12.25 , 15.375, 18.5  ],\n",
              "         [ 6.625,  9.75 , 12.875, 16.   , 19.125],\n",
              "         [ 7.25 , 10.375, 13.5  , 16.625, 19.75 ],\n",
              "         [ 7.875, 11.   , 14.125, 17.25 , 20.375],\n",
              "         [ 8.5  , 11.625, 14.75 , 17.875, 21.   ]]))"
            ]
          },
          "metadata": {},
          "execution_count": 68
        }
      ]
    },
    {
      "cell_type": "code",
      "metadata": {
        "colab": {
          "base_uri": "https://localhost:8080/"
        },
        "id": "M4mJwV59y81L",
        "outputId": "3c5613fe-b0a2-4c3c-c457-385c49aab45a"
      },
      "source": [
        "m_6 = m[1:-1,1:-1]\n",
        "m_6"
      ],
      "execution_count": 69,
      "outputs": [
        {
          "output_type": "execute_result",
          "data": {
            "text/plain": [
              "matrix([[ 9.75 , 10.375, 11.   ],\n",
              "        [12.875, 13.5  , 14.125],\n",
              "        [16.   , 16.625, 17.25 ]])"
            ]
          },
          "metadata": {},
          "execution_count": 69
        }
      ]
    },
    {
      "cell_type": "code",
      "metadata": {
        "colab": {
          "base_uri": "https://localhost:8080/"
        },
        "id": "5YL6PBrk2LAI",
        "outputId": "89c7f4f9-bfa6-4421-e236-f03251aecf93"
      },
      "source": [
        "p = np.linspace(0, 252, 64, dtype = int).reshape(4, 4, 4)\n",
        "p"
      ],
      "execution_count": 77,
      "outputs": [
        {
          "output_type": "execute_result",
          "data": {
            "text/plain": [
              "array([[[  0,   4,   8,  12],\n",
              "        [ 16,  20,  24,  28],\n",
              "        [ 32,  36,  40,  44],\n",
              "        [ 48,  52,  56,  60]],\n",
              "\n",
              "       [[ 64,  68,  72,  76],\n",
              "        [ 80,  84,  88,  92],\n",
              "        [ 96, 100, 104, 108],\n",
              "        [112, 116, 120, 124]],\n",
              "\n",
              "       [[128, 132, 136, 140],\n",
              "        [144, 148, 152, 156],\n",
              "        [160, 164, 168, 172],\n",
              "        [176, 180, 184, 188]],\n",
              "\n",
              "       [[192, 196, 200, 204],\n",
              "        [208, 212, 216, 220],\n",
              "        [224, 228, 232, 236],\n",
              "        [240, 244, 248, 252]]])"
            ]
          },
          "metadata": {},
          "execution_count": 77
        }
      ]
    },
    {
      "cell_type": "code",
      "metadata": {
        "colab": {
          "base_uri": "https://localhost:8080/"
        },
        "id": "wY9_PZsY8579",
        "outputId": "a0f79149-b0ec-4215-d833-b9a84058e0ad"
      },
      "source": [
        "p_2 = p[1]\n",
        "p_2"
      ],
      "execution_count": 83,
      "outputs": [
        {
          "output_type": "execute_result",
          "data": {
            "text/plain": [
              "array([[ 64,  68,  72,  76],\n",
              "       [ 80,  84,  88,  92],\n",
              "       [ 96, 100, 104, 108],\n",
              "       [112, 116, 120, 124]])"
            ]
          },
          "metadata": {},
          "execution_count": 83
        }
      ]
    }
  ]
}