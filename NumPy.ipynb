{
 "cells": [
  {
   "cell_type": "code",
   "execution_count": 2,
   "metadata": {},
   "outputs": [],
   "source": [
    "'''\n",
    "    1-Create a one-dimensional array called v, with 10 integers. Each integer should be a random number between 1 and 100.\n",
    "    2-Create a new array from v, which consists of the odd indices of previously created array v.\n",
    "    3-Create another array from v, where the elements (columns) are in backwards ordering from v.\n",
    "    4-Create a two-dimensional array called m with 25 evenly separated numbers from 6 to 21 inclusively in a 5 by 5 matrix.\n",
    "    5-Create a new array from m, where the elements (columns) of each row are in reverse order.\n",
    "    6-Create another array from m, where the rows are in reverse order.\n",
    "    7-Create another array from m, where columns and rows are both in reverse order.\n",
    "    8-Create another array from m, where the rows are made into columns (transform). Note difference from #7 above.\n",
    "    9-Create another array from m, where the first and last row and the first and last column are cut off.\n",
    "    10-Create a three-dimensional array called p, with 64 sequential numbers that are multiples of 4 in a three dimensional matrix.\n",
    "    11-Create a new array from p, that includes only the second \"layer\" .\n",
    "'''\n",
    "\n",
    "import numpy as np"
   ]
  },
  {
   "cell_type": "code",
   "execution_count": 24,
   "metadata": {},
   "outputs": [
    {
     "name": "stdout",
     "output_type": "stream",
     "text": [
      "[95 47 17 93 80  4 85 26 24 28]\n"
     ]
    }
   ],
   "source": [
    "#Step 1\n",
    "v = np.random.randint(0, 100, 10)\n",
    "print(v)"
   ]
  },
  {
   "cell_type": "code",
   "execution_count": 25,
   "metadata": {},
   "outputs": [
    {
     "name": "stdout",
     "output_type": "stream",
     "text": [
      "[95 47 17 93 85]\n"
     ]
    }
   ],
   "source": [
    "#Step 2\n",
    "o = np.array([x for x in v if x %2 != 0]) #o consists of all x values in v such that x is odd\n",
    "print(o)"
   ]
  },
  {
   "cell_type": "code",
   "execution_count": 26,
   "metadata": {},
   "outputs": [
    {
     "name": "stdout",
     "output_type": "stream",
     "text": [
      "[28 24 26 85  4 80 93 17 47 95]\n"
     ]
    }
   ],
   "source": [
    "#Step 3\n",
    "r = np.flip(v)\n",
    "print(r)"
   ]
  },
  {
   "cell_type": "code",
   "execution_count": 38,
   "metadata": {},
   "outputs": [
    {
     "name": "stdout",
     "output_type": "stream",
     "text": [
      "[[ 6.   6.6  7.2  7.8  8.4]\n",
      " [ 9.   9.6 10.2 10.8 11.4]\n",
      " [12.  12.6 13.2 13.8 14.4]\n",
      " [15.  15.6 16.2 16.8 17.4]\n",
      " [18.  18.6 19.2 19.8 20.4]]\n"
     ]
    }
   ],
   "source": [
    "#Step 4\n",
    "\n",
    "min_val =  6\n",
    "max_val = 21\n",
    "dim = 5\n",
    "#               min       max               step            extra method applied on what we just created\n",
    "m = np.arange(min_val, max_val, (max_val-min_val)/(dim**2)).reshape(dim, dim)\n",
    "print(m)"
   ]
  },
  {
   "cell_type": "code",
   "execution_count": 42,
   "metadata": {},
   "outputs": [
    {
     "name": "stdout",
     "output_type": "stream",
     "text": [
      "[[ 8.4  7.8  7.2  6.6  6. ]\n",
      " [11.4 10.8 10.2  9.6  9. ]\n",
      " [14.4 13.8 13.2 12.6 12. ]\n",
      " [17.4 16.8 16.2 15.6 15. ]\n",
      " [20.4 19.8 19.2 18.6 18. ]]\n"
     ]
    }
   ],
   "source": [
    "#Step 5\n",
    "\n",
    "rev_column_m = np.fliplr(m) #Flip left to right\n",
    "print(rev_column_m)"
   ]
  },
  {
   "cell_type": "code",
   "execution_count": 43,
   "metadata": {},
   "outputs": [
    {
     "name": "stdout",
     "output_type": "stream",
     "text": [
      "[[18.  18.6 19.2 19.8 20.4]\n",
      " [15.  15.6 16.2 16.8 17.4]\n",
      " [12.  12.6 13.2 13.8 14.4]\n",
      " [ 9.   9.6 10.2 10.8 11.4]\n",
      " [ 6.   6.6  7.2  7.8  8.4]]\n"
     ]
    }
   ],
   "source": [
    "#Step 6\n",
    "\n",
    "rev_row_m = np.flipud(m) #Flip upside down\n",
    "print(rev_row_m)"
   ]
  },
  {
   "cell_type": "code",
   "execution_count": 47,
   "metadata": {},
   "outputs": [
    {
     "name": "stdout",
     "output_type": "stream",
     "text": [
      "[[20.4 19.8 19.2 18.6 18. ]\n",
      " [17.4 16.8 16.2 15.6 15. ]\n",
      " [14.4 13.8 13.2 12.6 12. ]\n",
      " [11.4 10.8 10.2  9.6  9. ]\n",
      " [ 8.4  7.8  7.2  6.6  6. ]]\n"
     ]
    }
   ],
   "source": [
    "#Step 7\n",
    "\n",
    "rev_rc_m = np.flip(m) #Flip EVERYTHING :)\n",
    "print(rev_rc_m)"
   ]
  },
  {
   "cell_type": "code",
   "execution_count": 52,
   "metadata": {},
   "outputs": [
    {
     "name": "stdout",
     "output_type": "stream",
     "text": [
      "[[ 6.   9.  12.  15.  18. ]\n",
      " [ 6.6  9.6 12.6 15.6 18.6]\n",
      " [ 7.2 10.2 13.2 16.2 19.2]\n",
      " [ 7.8 10.8 13.8 16.8 19.8]\n",
      " [ 8.4 11.4 14.4 17.4 20.4]]\n"
     ]
    }
   ],
   "source": [
    "#Step 8\n",
    "\n",
    "#m_transpose = m.transpose()\n",
    "m_transpose = np.array(m).T\n",
    "print(m_transpose)"
   ]
  },
  {
   "cell_type": "code",
   "execution_count": 59,
   "metadata": {},
   "outputs": [
    {
     "name": "stdout",
     "output_type": "stream",
     "text": [
      "[[ 9.6 10.2 10.8]\n",
      " [12.6 13.2 13.8]\n",
      " [15.6 16.2 16.8]]\n"
     ]
    }
   ],
   "source": [
    "#Step 9\n",
    "\n",
    "cut_m = (m[1:-1:, 1:-1:])\n",
    "print(cut_m)"
   ]
  },
  {
   "cell_type": "code",
   "execution_count": 73,
   "metadata": {},
   "outputs": [
    {
     "name": "stdout",
     "output_type": "stream",
     "text": [
      "[[[  0   4   8  12]\n",
      "  [ 16  20  24  28]\n",
      "  [ 32  36  40  44]\n",
      "  [ 48  52  56  60]]\n",
      "\n",
      " [[ 64  68  72  76]\n",
      "  [ 80  84  88  92]\n",
      "  [ 96 100 104 108]\n",
      "  [112 116 120 124]]\n",
      "\n",
      " [[128 132 136 140]\n",
      "  [144 148 152 156]\n",
      "  [160 164 168 172]\n",
      "  [176 180 184 188]]\n",
      "\n",
      " [[192 196 200 204]\n",
      "  [208 212 216 220]\n",
      "  [224 228 232 236]\n",
      "  [240 244 248 252]]]\n"
     ]
    }
   ],
   "source": [
    "#Step 10\n",
    "\n",
    "p = np.array([x for x in range(256) if x%4==0]).reshape(4, 4, 4) #Max range is 256\n",
    "print(p)\n"
   ]
  },
  {
   "cell_type": "code",
   "execution_count": 74,
   "metadata": {},
   "outputs": [
    {
     "name": "stdout",
     "output_type": "stream",
     "text": [
      "[[ 64  68  72  76]\n",
      " [ 80  84  88  92]\n",
      " [ 96 100 104 108]\n",
      " [112 116 120 124]]\n"
     ]
    }
   ],
   "source": [
    "#Step 11\n",
    "\n",
    "p_layer2 = np.array(p[1])\n",
    "print(p_layer2)"
   ]
  },
  {
   "cell_type": "code",
   "execution_count": null,
   "metadata": {},
   "outputs": [],
   "source": []
  }
 ],
 "metadata": {
  "kernelspec": {
   "display_name": "Python 3",
   "language": "python",
   "name": "python3"
  },
  "language_info": {
   "codemirror_mode": {
    "name": "ipython",
    "version": 3
   },
   "file_extension": ".py",
   "mimetype": "text/x-python",
   "name": "python",
   "nbconvert_exporter": "python",
   "pygments_lexer": "ipython3",
   "version": "3.8.5"
  }
 },
 "nbformat": 4,
 "nbformat_minor": 4
}
