{
  "nbformat": 4,
  "nbformat_minor": 0,
  "metadata": {
    "colab": {
      "name": "bridger-bowl.ipynb",
      "provenance": [],
      "authorship_tag": "ABX9TyOONzoU4zoBc8isX1dVtVNt",
      "include_colab_link": true
    },
    "kernelspec": {
      "name": "python3",
      "display_name": "Python 3"
    },
    "language_info": {
      "name": "python"
    }
  },
  "cells": [
    {
      "cell_type": "markdown",
      "metadata": {
        "id": "view-in-github",
        "colab_type": "text"
      },
      "source": [
        "<a href=\"https://colab.research.google.com/github/mdjespc/tutoring/blob/main/bridger_bowl.ipynb\" target=\"_parent\"><img src=\"https://colab.research.google.com/assets/colab-badge.svg\" alt=\"Open In Colab\"/></a>"
      ]
    },
    {
      "cell_type": "code",
      "metadata": {
        "colab": {
          "base_uri": "https://localhost:8080/"
        },
        "id": "2nleSKKjCLC-",
        "outputId": "5c368a55-ef50-4109-827c-47446a74db96"
      },
      "source": [
        "import numpy as np\n",
        "import pandas as pd\n",
        "import matplotlib.pyplot as plt\n",
        "\n",
        "\n",
        "# http://www.onthesnow.com/montana/bridger-bowl/historical-snowfall.html\n",
        "years = [2010, 2011, 2012, 2013, 2014, 2015, 2016, 2017, 2018]   # bridger bowl year\n",
        "total_snowfall = [253, 304, 388, 265, 283, 209, 194, 271, 177]   # inches\n",
        "largest_snowfall = [19, 16, 19, 25, 20, 14, 13, 20, 15]          # inches\n",
        "\n",
        "##consolidate the data to a single variable\n",
        "snowfall = zip(years,total_snowfall,largest_snowfall)\n",
        "\n",
        "## converting given data in to a list for csv file conversion\n",
        "snowfall_list = list(snowfall)\n",
        "\n",
        "print(snowfall_list) ##checking for error and file path"
      ],
      "execution_count": 5,
      "outputs": [
        {
          "output_type": "stream",
          "name": "stdout",
          "text": [
            "[(2010, 253, 19), (2011, 304, 16), (2012, 388, 19), (2013, 265, 25), (2014, 283, 20), (2015, 209, 14), (2016, 194, 13), (2017, 271, 20), (2018, 177, 15)]\n"
          ]
        }
      ]
    },
    {
      "cell_type": "code",
      "metadata": {
        "colab": {
          "base_uri": "https://localhost:8080/"
        },
        "id": "C65Hp2vuDWL4",
        "outputId": "a7d068a8-eff8-4aec-dfb0-f6429a690bdb"
      },
      "source": [
        "## creating a pandas formattted string for csv write\n",
        "snowfall_spread = pd.DataFrame(data = snowfall_list, columns=['years','total_snowfall','largest_snowfall'])\n",
        "\n",
        "## writing the pandas csv\n",
        "snowfall_spread.to_csv('bridger.csv', index=False, header=True)\n",
        "\n",
        "##Reading\n",
        "saved_data = pd.read_csv('bridger.csv')\n",
        "print(saved_data)"
      ],
      "execution_count": 6,
      "outputs": [
        {
          "output_type": "stream",
          "name": "stdout",
          "text": [
            "   years  total_snowfall  largest_snowfall\n",
            "0   2010             253                19\n",
            "1   2011             304                16\n",
            "2   2012             388                19\n",
            "3   2013             265                25\n",
            "4   2014             283                20\n",
            "5   2015             209                14\n",
            "6   2016             194                13\n",
            "7   2017             271                20\n",
            "8   2018             177                15\n",
            "Max Largest Snowfall\n",
            "25\n"
          ]
        }
      ]
    },
    {
      "cell_type": "code",
      "metadata": {
        "colab": {
          "base_uri": "https://localhost:8080/"
        },
        "id": "ryvQFA3nEenO",
        "outputId": "439904b0-53fc-4388-e9d4-9b878ea9c9ce"
      },
      "source": [
        "##Find the maximum\n",
        "print(\"Max Largest Snowfall\")\n",
        "print(saved_data['largest_snowfall'].max())"
      ],
      "execution_count": 8,
      "outputs": [
        {
          "output_type": "stream",
          "name": "stdout",
          "text": [
            "Max Largest Snowfall\n",
            "25\n"
          ]
        }
      ]
    },
    {
      "cell_type": "code",
      "metadata": {
        "colab": {
          "base_uri": "https://localhost:8080/"
        },
        "id": "RDyQdSN3EtS5",
        "outputId": "fcff4ffd-6820-482b-c852-c82f1c5eba7b"
      },
      "source": [
        "##Sorting snowfall in descending order - print the two years with the greatest and least\n",
        "sorted_data = saved_data.sort_values('total_snowfall', ascending = False)\n",
        "print('Greatest Snowfall years\\n',sorted_data[:2])\n",
        "print('Least Snowfall years\\n',sorted_data[-2:])"
      ],
      "execution_count": 13,
      "outputs": [
        {
          "output_type": "stream",
          "name": "stdout",
          "text": [
            "Greatest Snowfall years\n",
            "    years  total_snowfall  largest_snowfall\n",
            "2   2012             388                19\n",
            "1   2011             304                16\n",
            "Least Snowfall years\n",
            "    years  total_snowfall  largest_snowfall\n",
            "6   2016             194                13\n",
            "8   2018             177                15\n"
          ]
        }
      ]
    },
    {
      "cell_type": "code",
      "metadata": {
        "colab": {
          "base_uri": "https://localhost:8080/",
          "height": 605
        },
        "id": "xbq4pWYCGVEk",
        "outputId": "9336f70a-123e-4450-8af5-dc43ae806fe2"
      },
      "source": [
        "##Make a bar graph with the largest and total snowfall\n",
        "plt.style.use('Solarize_Light2')\n",
        "fig = plt.figure('CSCI 127', figsize=[7, 8])\n",
        "plt.title('Bridger Bowl Snowfall')\n",
        "plt.xlabel('Year')\n",
        "plt.ylabel('Snowfall (Inches)')\n",
        "#Draw the bars\n",
        "plt.bar(saved_data['years'], saved_data['total_snowfall'], label = 'Total Snowfall')\n",
        "plt.bar(saved_data['years'], saved_data['largest_snowfall'], color = 'red', label = 'Largest Snowfall')\n",
        "#Print the legend\n",
        "plt.legend(loc = 'upper right')\n",
        "plt.show()"
      ],
      "execution_count": 40,
      "outputs": [
        {
          "output_type": "display_data",
          "data": {
            "image/png": "[encoded data removed]",
            "text/plain": [
              "<Figure size 560x640 with 1 Axes>"
            ]
          },
          "metadata": {}
        }
      ]
    }
  ]
}