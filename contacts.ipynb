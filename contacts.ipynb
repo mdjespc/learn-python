{
  "nbformat": 4,
  "nbformat_minor": 0,
  "metadata": {
    "colab": {
      "name": "contacts.ipynb",
      "provenance": [],
      "authorship_tag": "ABX9TyMGcVaZSjS3yeOLnGkMcpu5",
      "include_colab_link": true
    },
    "kernelspec": {
      "name": "python3",
      "display_name": "Python 3"
    },
    "language_info": {
      "name": "python"
    }
  },
  "cells": [
    {
      "cell_type": "markdown",
      "metadata": {
        "id": "view-in-github",
        "colab_type": "text"
      },
      "source": [
        "<a href=\"https://colab.research.google.com/github/mdjespc/tutoring/blob/main/contacts.ipynb\" target=\"_parent\"><img src=\"https://colab.research.google.com/assets/colab-badge.svg\" alt=\"Open In Colab\"/></a>"
      ]
    },
    {
      "cell_type": "code",
      "metadata": {
        "id": "SAtN_beAOoc7"
      },
      "source": [
        "class Contact:\n",
        "  def __init__(self, first_N, last_N, phone):\n",
        "    self.first_N = first_N\n",
        "    self.last_N = last_N\n",
        "    self.phone = phone\n",
        "  \n",
        "  def display(self):\n",
        "    print('Name: %s %s\\nPhone:%s' %(self.first_N, self.last_N, self.phone))"
      ],
      "execution_count": 2,
      "outputs": []
    },
    {
      "cell_type": "code",
      "metadata": {
        "id": "fChObl_VRmB2"
      },
      "source": [
        "#child class\n",
        "class Professional(Contact):\n",
        "  def __init__(self, first_N, last_N, phone, title):\n",
        "    #Before this is a Professional, it has to be a Contact\n",
        "    Contact.__init__(self, first_N, last_N, phone)\n",
        "    #Exclusive to the professional class\n",
        "    self.title = title\n",
        "    \n",
        "  def displayTitle(self):\n",
        "    print('Title:', self.title)\n",
        "    self.display()"
      ],
      "execution_count": 3,
      "outputs": []
    },
    {
      "cell_type": "code",
      "metadata": {
        "id": "7bxEqylSW4MY"
      },
      "source": [
        "#Second child class\n",
        "class Friend(Contact):\n",
        "  def __init__(self, first_N, last_N, phone, dob):\n",
        "    #Before this is a Professional, it has to be a Contact\n",
        "    Contact.__init__(self, first_N, last_N, phone)\n",
        "    #Exclusive to the friend class\n",
        "    self.dob = dob\n",
        "  def displaydob(self):\n",
        "    self.display()\n",
        "    print('DOB:', self.dob)"
      ],
      "execution_count": 4,
      "outputs": []
    },
    {
      "cell_type": "code",
      "metadata": {
        "colab": {
          "base_uri": "https://localhost:8080/"
        },
        "id": "1tNoNMRCRZgJ",
        "outputId": "fb827191-c0ac-4ea1-8abb-b0ae9f92f4f4"
      },
      "source": [
        "#Test objects\n",
        "A = Professional('Miguel', 'Pacheco', '334-549-6984', 'Dr.')\n",
        "B = Friend('Amy', 'Texas', '340-434-2346', '03-20-98')\n",
        "A.displayTitle()\n",
        "print('\\n---\\n')\n",
        "B.displaydob()"
      ],
      "execution_count": 8,
      "outputs": [
        {
          "output_type": "stream",
          "name": "stdout",
          "text": [
            "Title: Dr.\n",
            "Name: Miguel Pacheco\n",
            "Phone:334-549-6984\n",
            "\n",
            "---\n",
            "\n",
            "Name: Amy Texas\n",
            "Phone:340-434-2346\n",
            "DOB: 03-20-98\n"
          ]
        }
      ]
    },
    {
      "cell_type": "code",
      "metadata": {
        "id": "n7R1fKen-DIP"
      },
      "source": [
        "def printContacts(contact_list):\n",
        "  print('My contacts\\n-------------\\n')\n",
        "  for i in contact_list:\n",
        "    if type(i) == Contact:\n",
        "      i.display()\n",
        "      print('\\n-------------\\n')\n",
        "    elif type(i) == Friend:\n",
        "      i.displaydob()\n",
        "      print('\\n-------------\\n')\n",
        "    elif type(i) == Professional:\n",
        "      i.displayTitle()\n",
        "      print('\\n-------------\\n')"
      ],
      "execution_count": 11,
      "outputs": []
    },
    {
      "cell_type": "code",
      "metadata": {
        "colab": {
          "base_uri": "https://localhost:8080/"
        },
        "id": "g6m5NuwacEBX",
        "outputId": "dcaf003c-b8fd-42c3-cb42-9e9735998c9d"
      },
      "source": [
        "contact_1 = Friend('Donald','Duck','123-555-1234','Feb 28')\n",
        "contact_2 = Professional('Minnie','Mouse','406-555-4123','Mrs')\n",
        "contact_3 = Contact('Mickey','Mose','710-555-2341')\n",
        "contact_4 = Friend('Tinker','Bell','707-555-3243','???')\n",
        "contact_5 = Professional('Peter','Pan','234-555-2243','???')\n",
        "\n",
        "contacts = [contact_1, contact_2, contact_3, contact_4, contact_5]\n",
        "printContacts(contacts)\n"
      ],
      "execution_count": 16,
      "outputs": [
        {
          "output_type": "stream",
          "name": "stdout",
          "text": [
            "My contacts\n",
            "-------------\n",
            "\n",
            "Name: Donald Duck\n",
            "Phone:123-555-1234\n",
            "DOB: Feb 28\n",
            "\n",
            "-------------\n",
            "\n",
            "Title: Mrs\n",
            "Name: Minnie Mouse\n",
            "Phone:406-555-4123\n",
            "\n",
            "-------------\n",
            "\n",
            "Name: Mickey Mose\n",
            "Phone:710-555-2341\n",
            "\n",
            "-------------\n",
            "\n",
            "Name: Tinker Bell\n",
            "Phone:707-555-3243\n",
            "DOB: ???\n",
            "\n",
            "-------------\n",
            "\n",
            "Title: ???\n",
            "Name: Peter Pan\n",
            "Phone:234-555-2243\n",
            "\n",
            "-------------\n",
            "\n"
          ]
        }
      ]
    },
    {
      "cell_type": "code",
      "metadata": {
        "colab": {
          "base_uri": "https://localhost:8080/"
        },
        "id": "Q4mXO6hU_AVq",
        "outputId": "c48e384d-0f21-4d8a-c876-51c551158c72"
      },
      "source": [
        "contact_1.phone = '406-555-1234' #Setter\n",
        "contact_3.last_N = 'Mouse'\n",
        "contact_4.dob = 'July 2'\n",
        "contact_5.title = 'Mr.'\n",
        "printContacts(contacts)"
      ],
      "execution_count": 18,
      "outputs": [
        {
          "output_type": "stream",
          "name": "stdout",
          "text": [
            "My contacts\n",
            "-------------\n",
            "\n",
            "Name: Donald Duck\n",
            "Phone:406-555-1234\n",
            "DOB: Feb 28\n",
            "\n",
            "-------------\n",
            "\n",
            "Title: Mrs\n",
            "Name: Minnie Mouse\n",
            "Phone:406-555-4123\n",
            "\n",
            "-------------\n",
            "\n",
            "Name: Mickey Mouse\n",
            "Phone:710-555-2341\n",
            "\n",
            "-------------\n",
            "\n",
            "Name: Tinker Bell\n",
            "Phone:707-555-3243\n",
            "DOB: July 2\n",
            "\n",
            "-------------\n",
            "\n",
            "Title: Mr.\n",
            "Name: Peter Pan\n",
            "Phone:234-555-2243\n",
            "\n",
            "-------------\n",
            "\n"
          ]
        }
      ]
    },
    {
      "cell_type": "code",
      "metadata": {
        "colab": {
          "base_uri": "https://localhost:8080/"
        },
        "id": "Ndll7mbQByzH",
        "outputId": "21037863-258c-41de-d4ee-e41398b82067"
      },
      "source": [
        "print('Print specific items:\\n\\nDonald\\'s birthday is', contact_1.dob)\n",
        "print('%s %s\\'s Phone Number is %s' %(contact_5.title, contact_5.last_N, contact_5.phone))"
      ],
      "execution_count": 19,
      "outputs": [
        {
          "output_type": "stream",
          "name": "stdout",
          "text": [
            "Print specific items:\n",
            "\n",
            "Donald's birthday is Feb 28\n",
            "Mr. Pan's Phone Number is 234-555-2243\n"
          ]
        }
      ]
    }
  ]
}