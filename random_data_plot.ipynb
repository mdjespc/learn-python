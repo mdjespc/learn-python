{
  "nbformat": 4,
  "nbformat_minor": 0,
  "metadata": {
    "colab": {
      "name": "random_data_plot.ipynb",
      "provenance": [],
      "authorship_tag": "ABX9TyMa2ZZMEddmdi+Ibn08V9Lw",
      "include_colab_link": true
    },
    "kernelspec": {
      "name": "python3",
      "display_name": "Python 3"
    },
    "language_info": {
      "name": "python"
    }
  },
  "cells": [
    {
      "cell_type": "markdown",
      "metadata": {
        "id": "view-in-github",
        "colab_type": "text"
      },
      "source": [
        "<a href=\"https://colab.research.google.com/github/mdjespc/tutoring/blob/main/random_data_plot.ipynb\" target=\"_parent\"><img src=\"https://colab.research.google.com/assets/colab-badge.svg\" alt=\"Open In Colab\"/></a>"
      ]
    },
    {
      "cell_type": "code",
      "metadata": {
        "id": "aGl7jblqEZ0m"
      },
      "source": [
        "import numpy as np\n",
        "from numpy.random import Generator, PCG64, SeedSequence\n",
        "import matplotlib.pyplot as plt\n",
        "from matplotlib.ticker import MultipleLocator"
      ],
      "execution_count": 1,
      "outputs": []
    },
    {
      "cell_type": "markdown",
      "metadata": {
        "id": "nT7v5hBuFZvL"
      },
      "source": [
        "<h1>Random Sampling</h1>\n",
        "\n",
        "Generator can be used as a replacement for RandomState. Both class instances hold a internal BitGenerator instance to provide the bit stream, it is accessible as gen.bit_generator. Some long-overdue API cleanup means that legacy and compatibility methods have been removed from Generator. Seeds can be passed to any of the BitGenerators. The provided value is mixed via SeedSequence to spread a possible sequence of seeds across a wider range of initialization states for the BitGenerator."
      ]
    },
    {
      "cell_type": "code",
      "metadata": {
        "id": "26HgdCI9E5kw"
      },
      "source": [
        "#Generate a seed sequence to feed the generator\n",
        "sq = SeedSequence()\n",
        "#Here PCG64 is used and is wrapped with a Generator.\n",
        "#Initialize our generator\n",
        "rng = Generator(PCG64(sq.generate_state(6)))"
      ],
      "execution_count": null,
      "outputs": []
    },
    {
      "cell_type": "code",
      "metadata": {
        "colab": {
          "base_uri": "https://localhost:8080/"
        },
        "id": "KnpmtpPKGN8v",
        "outputId": "071fee57-abb4-47bb-9fa1-cb5a82372bc4"
      },
      "source": [
        "#generate 10 random integers between 0 (inclusive) and 100 (exclusive):\n",
        "y = rng.integers(low = 0, high = 101, size = 10)\n",
        "y_2 = rng.integers(low = 0, high = 101, size = 10)\n",
        "x = [i for i in range(1, 11)]\n",
        "print(y, y_2, x)"
      ],
      "execution_count": null,
      "outputs": [
        {
          "output_type": "stream",
          "name": "stdout",
          "text": [
            "[89 67 74 94 74 96  7 53 47 57] [37  5 49  0 94 78 96 97 39 24] [1, 2, 3, 4, 5, 6, 7, 8, 9, 10]\n"
          ]
        }
      ]
    },
    {
      "cell_type": "markdown",
      "metadata": {
        "id": "DWEfbpXYH56X"
      },
      "source": [
        "<h1>Scatter Plot</h1>"
      ]
    },
    {
      "cell_type": "code",
      "metadata": {
        "colab": {
          "base_uri": "https://localhost:8080/",
          "height": 350
        },
        "id": "-Rs-Q6x7H-j-",
        "outputId": "87e2dc2b-b3f3-4b46-c4e3-0f52c4608201"
      },
      "source": [
        "#Plot the data in a scatter plot\n",
        "#Set the figure\n",
        "#Unpack the figure and axes returned by the subplot method (ax1 = subplot 1, ax2 = subplot 2)\n",
        "fig, (ax1, ax2) = plt.subplots(1, 2, sharex = True, sharey = True, num = 'CSCI 127', figsize = [7, 5])\n",
        "#Scatter plot\n",
        "ax1.scatter(x, y, c = 'red')\n",
        "ax1.set(title = 'Grades', ylabel = 'Score', xlabel = 'Student ID')\n",
        "ax2.scatter(x, y_2, marker = '^')\n",
        "ax2.set(title = 'Grades', ylabel = 'Score', xlabel = 'Student ID')\n",
        "#Configure our plot\n",
        "ax1.xaxis.set_major_locator(MultipleLocator(1))\n",
        "ax1.yaxis.set_major_locator(MultipleLocator(10))\n",
        "ax2.xaxis.set_major_locator(MultipleLocator(1))\n",
        "ax2.yaxis.set_major_locator(MultipleLocator(10))\n",
        "ax1.annotate('me', (5, y[4]))\n",
        "ax2.annotate('me', (5, y_2[4]))\n",
        "plt.show()"
      ],
      "execution_count": null,
      "outputs": [
        {
          "output_type": "display_data",
          "data": {
            "image/png": "[encoded data removed]",
            "text/plain": [
              "<Figure size 504x360 with 2 Axes>"
            ]
          },
          "metadata": {
            "needs_background": "light"
          }
        }
      ]
    },
    {
      "cell_type": "markdown",
      "metadata": {
        "id": "IeUhimOg8pGc"
      },
      "source": [
        "# Histograms"
      ]
    },
    {
      "cell_type": "markdown",
      "metadata": {
        "id": "EaaewTNN8pM6"
      },
      "source": [
        "We have $n$ dice and we toss them simultaneously $k$ times. Plot a histogram that shows the probability of the sum of the dice being $x$ using long term frequency."
      ]
    },
    {
      "cell_type": "markdown",
      "metadata": {
        "id": "LycMKt78C8px"
      },
      "source": [
        "(For example: we toss 3 die and get a sum of 13, 45 out of 100 times)"
      ]
    },
    {
      "cell_type": "code",
      "metadata": {
        "id": "zZFkS7vpGR0x"
      },
      "source": [
        "import random"
      ],
      "execution_count": 2,
      "outputs": []
    },
    {
      "cell_type": "code",
      "metadata": {
        "id": "9eNfYaLiDQbs"
      },
      "source": [
        "#initialize our variables\n",
        "dice = (1, 2, 3, 4, 5, 6)\n",
        "n = 2\n",
        "k = 500000"
      ],
      "execution_count": 21,
      "outputs": []
    },
    {
      "cell_type": "code",
      "metadata": {
        "id": "r7GzgWWMFCvR"
      },
      "source": [
        "#define how we throw the dice\n",
        "def throw(n, k):\n",
        "  evt = []\n",
        "  for i in range(k):\n",
        "    evt.append(0)\n",
        "    for j in range(n):\n",
        "      evt[i] += random.choice(dice)\n",
        "      #evt[i] can be any number between n and n*6\n",
        "  return np.array(evt)"
      ],
      "execution_count": 5,
      "outputs": []
    },
    {
      "cell_type": "code",
      "metadata": {
        "id": "EGxGNn0LH0ww"
      },
      "source": [
        "#show the long term frequency of each outcome\n",
        "def ltf(outcomeArray):\n",
        "  #Return the number of times each sum appears in the outcome array\n",
        "  return np.unique(outcomeArray, return_counts = True)"
      ],
      "execution_count": 6,
      "outputs": []
    },
    {
      "cell_type": "code",
      "metadata": {
        "colab": {
          "base_uri": "https://localhost:8080/",
          "height": 573
        },
        "id": "xD4zlFR5Gf_S",
        "outputId": "815eaf22-a0fe-4570-855b-ad95fce76e5a"
      },
      "source": [
        "#the throw function returns an array of the sums of the dice being thrown, so we can plot it using a histogram\n",
        "experiment = throw(n, k)\n",
        "plt.figure(figsize = [8, 5])\n",
        "plt.hist(experiment, bins = 6)\n",
        "plt.xlabel('Sum')\n",
        "plt.ylabel('$k$ trials')\n",
        "plt.xlim(n, n*6)\n",
        "plt.show()\n",
        "#Print the long term frequencies\n",
        "val, f = ltf(experiment)\n",
        "for v in val:\n",
        "  print('X = %d ---------> Frequency: %d/%d = %5.2f'%(v, f[v - n], k, (f[v - n]/k)))\n",
        "print('Total Frequency: %d/%d \\nTotal Probability: %5.2f' %(sum(f), k, sum(f)/k))"
      ],
      "execution_count": 23,
      "outputs": [
        {
          "output_type": "display_data",
          "data": {
            "image/png": "[encoded data removed]",
            "text/plain": [
              "<Figure size 576x360 with 1 Axes>"
            ]
          },
          "metadata": {
            "needs_background": "light"
          }
        },
        {
          "output_type": "stream",
          "name": "stdout",
          "text": [
            "X = 2 ---------> Frequency: 13843/500000 =  0.03\n",
            "X = 3 ---------> Frequency: 27820/500000 =  0.06\n",
            "X = 4 ---------> Frequency: 41481/500000 =  0.08\n",
            "X = 5 ---------> Frequency: 55574/500000 =  0.11\n",
            "X = 6 ---------> Frequency: 69678/500000 =  0.14\n",
            "X = 7 ---------> Frequency: 83421/500000 =  0.17\n",
            "X = 8 ---------> Frequency: 69425/500000 =  0.14\n",
            "X = 9 ---------> Frequency: 55487/500000 =  0.11\n",
            "X = 10 ---------> Frequency: 41795/500000 =  0.08\n",
            "X = 11 ---------> Frequency: 27476/500000 =  0.05\n",
            "X = 12 ---------> Frequency: 14000/500000 =  0.03\n",
            "Total Frequency: 500000/500000 \n",
            "Total Probability:  1.00\n"
          ]
        }
      ]
    }
  ]
}