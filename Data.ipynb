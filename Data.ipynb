{
 "cells": [
  {
   "cell_type": "code",
   "execution_count": 1,
   "metadata": {},
   "outputs": [
    {
     "name": "stdout",
     "output_type": "stream",
     "text": [
      "['California', '344,867,500', 'Texas', '344,676,459']\n"
     ]
    }
   ],
   "source": [
    "data = \"California 344,867,500 Texas 344,676,459\"\n",
    "\n",
    "#Clear the string of commas\n",
    "data.replace(',', '')\n",
    "\n",
    "#Split the state from its population \n",
    "\n",
    "#1-dimensional array\n",
    "notebook = list(data.split(' ')) #Our splitter is the ' '. It will split the array into different elements\n",
    "\n",
    "print(notebook)"
   ]
  },
  {
   "cell_type": "code",
   "execution_count": null,
   "metadata": {},
   "outputs": [],
   "source": []
  },
  {
   "cell_type": "code",
   "execution_count": null,
   "metadata": {},
   "outputs": [],
   "source": [
    "#2-dimensional array\n",
    "table = list(list())"
   ]
  }
 ],
 "metadata": {
  "kernelspec": {
   "display_name": "Python 3",
   "language": "python",
   "name": "python3"
  },
  "language_info": {
   "codemirror_mode": {
    "name": "ipython",
    "version": 3
   },
   "file_extension": ".py",
   "mimetype": "text/x-python",
   "name": "python",
   "nbconvert_exporter": "python",
   "pygments_lexer": "ipython3",
   "version": "3.8.5"
  }
 },
 "nbformat": 4,
 "nbformat_minor": 4
}
