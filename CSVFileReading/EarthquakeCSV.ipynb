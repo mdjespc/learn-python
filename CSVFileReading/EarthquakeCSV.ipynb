{
 "cells": [
  {
   "cell_type": "markdown",
   "metadata": {
    "id": "iPIZ6RDoRouT"
   },
   "source": [
    "# Initializing \"eqdata.csv\""
   ]
  },
  {
   "cell_type": "code",
   "execution_count": 19,
   "metadata": {
    "id": "Pdq9aaQ_SdwE"
   },
   "outputs": [],
   "source": [
    "file_name = \"eqdata.csv\""
   ]
  },
  {
   "cell_type": "markdown",
   "metadata": {
    "id": "KtzEPujxS2gv"
   },
   "source": [
    "## Calculate the average magnitude of all recorded earthquakes"
   ]
  },
  {
   "cell_type": "code",
   "execution_count": 20,
   "metadata": {
    "id": "i5N4Dn56Bslw"
   },
   "outputs": [],
   "source": [
    "def average_magnitude(file_name):\n",
    "  dF = open(file_name, \"r\") #Data frame\n",
    "  nestedL = list() #Each element is a line in the data frame\n",
    "  next(dF) #Skipping the header\n",
    "\n",
    "  totalMag = 0.0\n",
    "  for lines in dF: #Populating nested list\n",
    "    lines = list(lines.split(\",\")) #each line in the data frame is a list containing data\n",
    "    nestedL.append(lines) \n",
    "    totalMag += float(lines[10]) #summing all magnitudes\n",
    "    \n",
    "  dF.close()\n",
    "\n",
    "  return totalMag/len(nestedL)"
   ]
  },
  {
   "cell_type": "markdown",
   "metadata": {
    "id": "CXsNToyYb9FT"
   },
   "source": [
    "## Identify every unique location of earthquakes (no duplicates)"
   ]
  },
  {
   "cell_type": "code",
   "execution_count": 21,
   "metadata": {
    "id": "vxpTKDNIcQpx"
   },
   "outputs": [],
   "source": [
    "def earthquake_locations(file_name):\n",
    "  dF = open(file_name, \"r\")\n",
    "  locations = list() \n",
    "  next(dF) \n",
    "\n",
    "  for lines in dF: \n",
    "    lines = list(lines.split(\",\")) \n",
    "    #if this is already present, then we want to skip adding it.\n",
    "    #if this is not present, then we want to add it\n",
    "    if lines[13] not in locations and not (lines[13].isdigit()):\n",
    "      locations.append(lines[13])\n",
    "\n",
    "  locations.sort()\n",
    "  for i in locations: print(i)\n",
    "\n",
    "  dF.close()"
   ]
  },
  {
   "cell_type": "markdown",
   "metadata": {
    "id": "w1VG7NEqmA4k"
   },
   "source": [
    "## Count number of earthquakes within a range"
   ]
  },
  {
   "cell_type": "code",
   "execution_count": 22,
   "metadata": {
    "id": "blRrs6CMmLBW"
   },
   "outputs": [],
   "source": [
    "def count_earthquakes(file_name, lower_bound, upper_bound):\n",
    "  dF = open(file_name, \"r\") \n",
    "  next(dF) \n",
    "\n",
    "  counter = 0\n",
    "\n",
    "  for lines in dF:\n",
    "    lines = list(lines.split(\",\"))\n",
    "    magnitude = float(lines[10])\n",
    "    if magnitude >= lower_bound and magnitude <= upper_bound:\n",
    "      counter += 1\n",
    "    \n",
    "  dF.close()\n",
    "\n",
    "  return counter"
   ]
  },
  {
   "cell_type": "code",
   "execution_count": 23,
   "metadata": {
    "id": "PcZQB0zwGTk1"
   },
   "outputs": [],
   "source": [
    "def main(file_name):\n",
    "    magnitude = average_magnitude(file_name)\n",
    "    print(\"The average earthquake magnitude is {:.2f}\\n\".format(magnitude))\n",
    "    \n",
    "    earthquake_locations(file_name)\n",
    "    \n",
    "    lower_bound = float(input(\"Enter a lower bound for the magnitude: \"))\n",
    "    upper_bound = float(input(\"Enter an upper bound for the magnitude: \"))\n",
    "    \n",
    "    how_many = count_earthquakes(file_name, lower_bound, upper_bound)\n",
    "    print(\"Number of recorded earthquakes between {:.2f} and {:.2f} = {:d}\".format(lower_bound, upper_bound, how_many))\n",
    "    "
   ]
  },
  {
   "cell_type": "code",
   "execution_count": 24,
   "metadata": {
    "colab": {
     "base_uri": "https://localhost:8080/"
    },
    "id": "jGTI6RP_Stp0",
    "outputId": "c6b03214-8e12-4701-832f-128ae34f7ad3"
   },
   "outputs": [
    {
     "name": "stdout",
     "output_type": "stream",
     "text": [
      "The average earthquake magnitude is 1.35\n",
      "\n",
      "Afghanistan\n",
      "Alaska\n",
      "Anguilla\n",
      "Argentina\n",
      "Arizona\n",
      "Arkansas\n",
      "Australia\n",
      "Azerbaijan\n",
      "Bolivia\n",
      "British Virgin Islands\n",
      "Burma\n",
      "California\n",
      "Canada\n",
      "Chile\n",
      "China\n",
      "Christmas Island\n",
      "Colombia\n",
      "Colorado\n",
      "Costa Rica\n",
      "Cyprus\n",
      "Dominican Republic\n",
      "East Timor\n",
      "Ecuador\n",
      "El Salvador\n",
      "Fiji\n",
      "Georgia\n",
      "Greece\n",
      "Guam\n",
      "Guatemala\n",
      "Hawaii\n",
      "Idaho\n",
      "Illinois\n",
      "India\n",
      "Indonesia\n",
      "Iran\n",
      "Italy\n",
      "Japan\n",
      "Japan region\n",
      "Kansas\n",
      "Kiribati region\n",
      "Kyrgyzstan\n",
      "Martinique\n",
      "Mexico\n",
      "Missouri\n",
      "Montana\n",
      "Nevada\n",
      "New Caledonia\n",
      "New Hampshire\n",
      "New Jersey\n",
      "New York\n",
      "New Zealand\n",
      "Nicaragua\n",
      "North Carolina\n",
      "Northern Mariana Islands\n",
      "Ohio\n",
      "Oklahoma\n",
      "Oregon\n",
      "Pakistan\n",
      "Palau\n",
      "Panama\n",
      "Papua New Guinea\n",
      "Pennsylvania\n",
      "Peru\n",
      "Philippines\n",
      "Poland\n",
      "Portugal\n",
      "Puerto Rico\n",
      "Russia\n",
      "Solomon Islands\n",
      "South Georgia and the South Sandwich Islands\n",
      "South Sandwich Islands\n",
      "Syria\n",
      "Taiwan\n",
      "Tajikistan\n",
      "Tennessee\n",
      "Texas\n",
      "Tonga\n",
      "Turkey\n",
      "U.S. Virgin Islands\n",
      "Ukraine\n",
      "Utah\n",
      "Uzbekistan\n",
      "Vanuatu\n",
      "Venezuela\n",
      "Virginia\n",
      "Washington\n",
      "West Virginia\n",
      "Wyoming\n",
      "Enter a lower bound for the magnitude: 3.05\n",
      "Enter an upper bound for the magnitude: 3.85\n",
      "Number of recorded earthquakes between 3.05 and 3.85 = 140\n"
     ]
    }
   ],
   "source": [
    "main(file_name)"
   ]
  }
 ],
 "metadata": {
  "colab": {
   "collapsed_sections": [],
   "name": "EarthquakeCSV.ipynb",
   "provenance": []
  },
  "kernelspec": {
   "display_name": "Python 3",
   "language": "python",
   "name": "python3"
  },
  "language_info": {
   "codemirror_mode": {
    "name": "ipython",
    "version": 3
   },
   "file_extension": ".py",
   "mimetype": "text/x-python",
   "name": "python",
   "nbconvert_exporter": "python",
   "pygments_lexer": "ipython3",
   "version": "3.8.5"
  }
 },
 "nbformat": 4,
 "nbformat_minor": 1
}
