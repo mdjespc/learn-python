{
  "nbformat": 4,
  "nbformat_minor": 0,
  "metadata": {
    "kernelspec": {
      "display_name": "Python 3",
      "language": "python",
      "name": "python3"
    },
    "language_info": {
      "codemirror_mode": {
        "name": "ipython",
        "version": 3
      },
      "file_extension": ".py",
      "mimetype": "text/x-python",
      "name": "python",
      "nbconvert_exporter": "python",
      "pygments_lexer": "ipython3",
      "version": "3.8.5"
    },
    "colab": {
      "name": "ASCII_Codes.ipynb",
      "provenance": [],
      "include_colab_link": true
    }
  },
  "cells": [
    {
      "cell_type": "markdown",
      "metadata": {
        "id": "view-in-github",
        "colab_type": "text"
      },
      "source": [
        "<a href=\"https://colab.research.google.com/github/mdjespc/tutoring/blob/main/ASCII_Codes.ipynb\" target=\"_parent\"><img src=\"https://colab.research.google.com/assets/colab-badge.svg\" alt=\"Open In Colab\"/></a>"
      ]
    },
    {
      "cell_type": "code",
      "metadata": {
        "id": "mbPLLwgvDyBv"
      },
      "source": [
        "import string"
      ],
      "execution_count": null,
      "outputs": []
    },
    {
      "cell_type": "code",
      "metadata": {
        "id": "kU-I3MLYDyB1"
      },
      "source": [
        "def create_dictionary(filepath):\n",
        "    dictionary = dict()\n",
        "    txt = open(filepath, 'r')\n",
        "    \n",
        "    for line in txt:\n",
        "        line = line.split(\",\")\n",
        "        binary_string = line[0]\n",
        "        character = line[1].replace(\"\\n\", \"\")\n",
        "        dictionary[character] = binary_string\n",
        "    txt.close()\n",
        "    return dictionary"
      ],
      "execution_count": null,
      "outputs": []
    },
    {
      "cell_type": "code",
      "metadata": {
        "id": "b_WpZ6c4DyB5",
        "outputId": "bbfb63e4-d436-4d15-dc45-31b3ddada487"
      },
      "source": [
        "D = create_dictionary(\"ascii-codes.txt\")\n",
        "print(D)"
      ],
      "execution_count": null,
      "outputs": [
        {
          "name": "stdout",
          "output_type": "stream",
          "text": [
            "{'space': '00100000', '!': '00100001', '\"': '00100010', '#': '00100011', '$': '00100100', '%': '00100101', '&': '00100110', \"'\": '00100111', '(': '00101000', ')': '00101001', '*': '00101010', '+': '00101011', 'comma': '00101100', '-': '00101101', '.': '00101110', '/': '00101111', '0': '00110000', '1': '00110001', '2': '00110010', '3': '00110011', '4': '00110100', '5': '00110101', '6': '00110110', '7': '00110111', '8': '00111000', '9': '00111001', ':': '00111010', ';': '00111011', '<': '00111100', '=': '00111101', '>': '00111110', '?': '00111111', '@': '01000000', 'A': '01000001', 'B': '01000010', 'C': '01000011', 'D': '01000100', 'E': '01000101', 'F': '01000110', 'G': '01000111', 'H': '01001000', 'I': '01001001', 'J': '01001010', 'K': '01001011', 'L': '01001100', 'M': '01001101', 'N': '01001110', 'O': '01001111', 'P': '01010000', 'Q': '01010001', 'R': '01010010', 'S': '01010011', 'T': '01010100', 'U': '01010101', 'V': '01010110', 'W': '01010111', 'X': '01011000', 'Y': '01011001', 'Z': '01011010', '[': '01011011', '\\\\': '01011100', ']': '01011101', '^': '01011110', '_': '01011111', '`': '01100000', 'a': '01100001', 'b': '01100010', 'c': '01100011', 'd': '01100100', 'e': '01100101', 'f': '01100110', 'g': '01100111', 'h': '01101000', 'i': '01101001', 'j': '01101010', 'k': '01101011', 'l': '01101100', 'm': '01101101', 'n': '01101110', 'o': '01101111', 'p': '01110000', 'q': '01110001', 'r': '01110010', 's': '01110011', 't': '01110100', 'u': '01110101', 'v': '01110110', 'w': '01110111', 'x': '01111000', 'y': '01111001', 'z': '01111010', '{': '01111011', '|': '01111100', '}': '01111101'}\n"
          ]
        }
      ]
    },
    {
      "cell_type": "code",
      "metadata": {
        "id": "0NnGoR7fDyB9"
      },
      "source": [
        "def ascii_translation(sentence, dictionary, newName):\n",
        "    #Create new file that contains the translated sentence\n",
        "    try:\n",
        "        O = open(newName, \"w\")\n",
        "        print('\\'%s\\' created.'%newName)\n",
        "    except:\n",
        "        print('Could not create new file.')\n",
        "    '''\n",
        "    Iterate through a given sentence and write each character next to their ascii representation in the\n",
        "    output file\n",
        "    '''\n",
        "    for char in sentence:\n",
        "        key = char\n",
        "        if char == ' ':\n",
        "            key = 'space'\n",
        "        if char == ',':\n",
        "            key = 'comma'\n",
        "            \n",
        "        if key in dictionary.keys():\n",
        "            O.write(\"%s\\t%s\\n\"%(char, dictionary[key]))    \n",
        "        else:\n",
        "            O.write(char)\n",
        "            O.write(\"\\tUNKNOWN\\n\")        \n",
        "    O.close()"
      ],
      "execution_count": null,
      "outputs": []
    },
    {
      "cell_type": "code",
      "metadata": {
        "id": "jpQ9JHZ5DyB_"
      },
      "source": [
        "#Type sentences to translate\n",
        "s = list()\n",
        "s.append('Buck lived at a big house in the sun-kissed Santa Clara Valley. Judge Millers place, it was called!')\n",
        "s.append('Bozeman, MT  59717')\n",
        "s.append('The value is ~$25.00')"
      ],
      "execution_count": null,
      "outputs": []
    },
    {
      "cell_type": "code",
      "metadata": {
        "id": "Y5gZ-GtnDyB_",
        "outputId": "d84695ae-726b-467f-f671-66058b909c93"
      },
      "source": [
        "#Run translate function\n",
        "ascii_translation(s[0], D, 'output_1.txt')\n",
        "ascii_translation(s[1], D, 'output_2.txt')\n",
        "ascii_translation(s[2], D, 'output_3.txt')"
      ],
      "execution_count": null,
      "outputs": [
        {
          "name": "stdout",
          "output_type": "stream",
          "text": [
            "'output_1.txt' created.\n",
            "'output_2.txt' created.\n",
            "'output_3.txt' created.\n"
          ]
        }
      ]
    },
    {
      "cell_type": "code",
      "metadata": {
        "id": "o5YtYxYtDyCB"
      },
      "source": [
        ""
      ],
      "execution_count": null,
      "outputs": []
    }
  ]
}