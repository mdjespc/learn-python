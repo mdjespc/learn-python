{
 "cells": [
  {
   "cell_type": "code",
   "execution_count": 41,
   "metadata": {},
   "outputs": [],
   "source": [
    "import string"
   ]
  },
  {
   "cell_type": "code",
   "execution_count": 46,
   "metadata": {},
   "outputs": [],
   "source": [
    "def create_dictionary(file_name):\n",
    "    file = open(file_name,'r')\n",
    "\n",
    "    dictionary = {}\n",
    "\n",
    "    for line in file:\n",
    "        #line = (line.replace(\"\\n\",\"\")\n",
    "        line = list(line.split(\",\"))\n",
    "        line[1] = line[1].replace(\"\\n\",\"\")\n",
    "        dictionary[line[1]] = int(line[0])\n",
    "    print(dictionary)\n",
    "        \n",
    "    file.close()"
   ]
  },
  {
   "cell_type": "code",
   "execution_count": 43,
   "metadata": {},
   "outputs": [],
   "source": [
    "def translate(sentence, dictionary, newName):\n",
    "    #Creating new file\n",
    "    O = open(newName, \"w\")\n",
    "    \n",
    "    #Iterate through each character in the sentence\n",
    "    for character in sentence:\n",
    "        \n",
    "        if character not in dictionary:\n",
    "            O.write(character)\n",
    "            O.write('\\tUNKNOWN\\n')\n",
    "        else:\n",
    "            O.write(character)\n",
    "            O.write('\\t')\n",
    "            O.write(dictionary[character])\n",
    "            O.write('\\n')\n",
    "    \n",
    "    O.close()"
   ]
  },
  {
   "cell_type": "code",
   "execution_count": 44,
   "metadata": {},
   "outputs": [],
   "source": [
    "def main(file_name):\n",
    "    dictionary = create_dictionary(file_name)\n",
    "    sentence = \"Buck lived at a big house in the sun-kissed Santa Clara Valley. Judge Miller's place, it was called!\"\n",
    "    translate(sentence, dictionary, \"output-1.txt\")\n",
    "    sentence = \"Bozeman, MT  59717\"\n",
    "    translate(sentence, dictionary, \"output-2.txt\")\n",
    "    sentence = \"The value is ~$25.00\"\n"
   ]
  },
  {
   "cell_type": "code",
   "execution_count": 45,
   "metadata": {},
   "outputs": [
    {
     "name": "stdout",
     "output_type": "stream",
     "text": [
      "{'space': 100000, '!': 100001, '\"': 100010, '#': 100011, '$': 100100, '%': 100101, '&': 100110, \"'\": 100111, '(': 101000, ')': 101001, '*': 101010, '+': 101011, 'comma': 101100, '-': 101101, '.': 101110, '/': 101111, '0': 110000, '1': 110001, '2': 110010, '3': 110011, '4': 110100, '5': 110101, '6': 110110, '7': 110111, '8': 111000, '9': 111001, ':': 111010, ';': 111011, '<': 111100, '=': 111101, '>': 111110, '?': 111111, '@': 1000000, 'A': 1000001, 'B': 1000010, 'C': 1000011, 'D': 1000100, 'E': 1000101, 'F': 1000110, 'G': 1000111, 'H': 1001000, 'I': 1001001, 'J': 1001010, 'K': 1001011, 'L': 1001100, 'M': 1001101, 'N': 1001110, 'O': 1001111, 'P': 1010000, 'Q': 1010001, 'R': 1010010, 'S': 1010011, 'T': 1010100, 'U': 1010101, 'V': 1010110, 'W': 1010111, 'X': 1011000, 'Y': 1011001, 'Z': 1011010, '[': 1011011, '\\\\': 1011100, ']': 1011101, '^': 1011110, '_': 1011111, '`': 1100000, 'a': 1100001, 'b': 1100010, 'c': 1100011, 'd': 1100100, 'e': 1100101, 'f': 1100110, 'g': 1100111, 'h': 1101000, 'i': 1101001, 'j': 1101010, 'k': 1101011, 'l': 1101100, 'm': 1101101, 'n': 1101110, 'o': 1101111, 'p': 1110000, 'q': 1110001, 'r': 1110010, 's': 1110011, 't': 1110100, 'u': 1110101, 'v': 1110110, 'w': 1110111, 'x': 1111000, 'y': 1111001, 'z': 1111010, '{': 1111011, '|': 1111100, '}': 1111101}\n"
     ]
    },
    {
     "ename": "TypeError",
     "evalue": "argument of type 'NoneType' is not iterable",
     "output_type": "error",
     "traceback": [
      "\u001b[1;31m---------------------------------------------------------------------------\u001b[0m",
      "\u001b[1;31mTypeError\u001b[0m                                 Traceback (most recent call last)",
      "\u001b[1;32m<ipython-input-45-db97dbc50f74>\u001b[0m in \u001b[0;36m<module>\u001b[1;34m\u001b[0m\n\u001b[1;32m----> 1\u001b[1;33m \u001b[0mmain\u001b[0m\u001b[1;33m(\u001b[0m\u001b[1;34m'ascii-codes.txt'\u001b[0m\u001b[1;33m)\u001b[0m\u001b[1;33m\u001b[0m\u001b[1;33m\u001b[0m\u001b[0m\n\u001b[0m",
      "\u001b[1;32m<ipython-input-44-c0266fe2e8af>\u001b[0m in \u001b[0;36mmain\u001b[1;34m(file_name)\u001b[0m\n\u001b[0;32m      2\u001b[0m     \u001b[0mdictionary\u001b[0m \u001b[1;33m=\u001b[0m \u001b[0mcreate_dictionary\u001b[0m\u001b[1;33m(\u001b[0m\u001b[0mfile_name\u001b[0m\u001b[1;33m)\u001b[0m\u001b[1;33m\u001b[0m\u001b[1;33m\u001b[0m\u001b[0m\n\u001b[0;32m      3\u001b[0m     \u001b[0msentence\u001b[0m \u001b[1;33m=\u001b[0m \u001b[1;34m\"Buck lived at a big house in the sun-kissed Santa Clara Valley. Judge Miller's place, it was called!\"\u001b[0m\u001b[1;33m\u001b[0m\u001b[1;33m\u001b[0m\u001b[0m\n\u001b[1;32m----> 4\u001b[1;33m     \u001b[0mtranslate\u001b[0m\u001b[1;33m(\u001b[0m\u001b[0msentence\u001b[0m\u001b[1;33m,\u001b[0m \u001b[0mdictionary\u001b[0m\u001b[1;33m,\u001b[0m \u001b[1;34m\"output-1.txt\"\u001b[0m\u001b[1;33m)\u001b[0m\u001b[1;33m\u001b[0m\u001b[1;33m\u001b[0m\u001b[0m\n\u001b[0m\u001b[0;32m      5\u001b[0m     \u001b[0msentence\u001b[0m \u001b[1;33m=\u001b[0m \u001b[1;34m\"Bozeman, MT  59717\"\u001b[0m\u001b[1;33m\u001b[0m\u001b[1;33m\u001b[0m\u001b[0m\n\u001b[0;32m      6\u001b[0m     \u001b[0mtranslate\u001b[0m\u001b[1;33m(\u001b[0m\u001b[0msentence\u001b[0m\u001b[1;33m,\u001b[0m \u001b[0mdictionary\u001b[0m\u001b[1;33m,\u001b[0m \u001b[1;34m\"output-2.txt\"\u001b[0m\u001b[1;33m)\u001b[0m\u001b[1;33m\u001b[0m\u001b[1;33m\u001b[0m\u001b[0m\n",
      "\u001b[1;32m<ipython-input-43-f5c64faaefa0>\u001b[0m in \u001b[0;36mtranslate\u001b[1;34m(sentence, dictionary, newName)\u001b[0m\n\u001b[0;32m      6\u001b[0m     \u001b[1;32mfor\u001b[0m \u001b[0mcharacter\u001b[0m \u001b[1;32min\u001b[0m \u001b[0msentence\u001b[0m\u001b[1;33m:\u001b[0m\u001b[1;33m\u001b[0m\u001b[1;33m\u001b[0m\u001b[0m\n\u001b[0;32m      7\u001b[0m \u001b[1;33m\u001b[0m\u001b[0m\n\u001b[1;32m----> 8\u001b[1;33m         \u001b[1;32mif\u001b[0m \u001b[0mcharacter\u001b[0m \u001b[1;32mnot\u001b[0m \u001b[1;32min\u001b[0m \u001b[0mdictionary\u001b[0m\u001b[1;33m:\u001b[0m\u001b[1;33m\u001b[0m\u001b[1;33m\u001b[0m\u001b[0m\n\u001b[0m\u001b[0;32m      9\u001b[0m             \u001b[0mO\u001b[0m\u001b[1;33m.\u001b[0m\u001b[0mwrite\u001b[0m\u001b[1;33m(\u001b[0m\u001b[0mcharacter\u001b[0m\u001b[1;33m)\u001b[0m\u001b[1;33m\u001b[0m\u001b[1;33m\u001b[0m\u001b[0m\n\u001b[0;32m     10\u001b[0m             \u001b[0mO\u001b[0m\u001b[1;33m.\u001b[0m\u001b[0mwrite\u001b[0m\u001b[1;33m(\u001b[0m\u001b[1;34m'\\tUNKNOWN\\n'\u001b[0m\u001b[1;33m)\u001b[0m\u001b[1;33m\u001b[0m\u001b[1;33m\u001b[0m\u001b[0m\n",
      "\u001b[1;31mTypeError\u001b[0m: argument of type 'NoneType' is not iterable"
     ]
    }
   ],
   "source": [
    "main('ascii-codes.txt')"
   ]
  },
  {
   "cell_type": "code",
   "execution_count": null,
   "metadata": {},
   "outputs": [],
   "source": []
  },
  {
   "cell_type": "code",
   "execution_count": null,
   "metadata": {},
   "outputs": [],
   "source": []
  }
 ],
 "metadata": {
  "kernelspec": {
   "display_name": "Python 3",
   "language": "python",
   "name": "python3"
  },
  "language_info": {
   "codemirror_mode": {
    "name": "ipython",
    "version": 3
   },
   "file_extension": ".py",
   "mimetype": "text/x-python",
   "name": "python",
   "nbconvert_exporter": "python",
   "pygments_lexer": "ipython3",
   "version": "3.8.5"
  }
 },
 "nbformat": 4,
 "nbformat_minor": 4
}
