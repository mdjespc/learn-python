{
  "nbformat": 4,
  "nbformat_minor": 0,
  "metadata": {
    "colab": {
      "name": "csv_writing.ipynb",
      "provenance": [],
      "authorship_tag": "ABX9TyOC8Kk/V02jnISxrszwfdP4",
      "include_colab_link": true
    },
    "kernelspec": {
      "name": "python3",
      "display_name": "Python 3"
    },
    "language_info": {
      "name": "python"
    }
  },
  "cells": [
    {
      "cell_type": "markdown",
      "metadata": {
        "id": "view-in-github",
        "colab_type": "text"
      },
      "source": [
        "<a href=\"https://colab.research.google.com/github/mdjespc/tutoring/blob/main/csv_writing.ipynb\" target=\"_parent\"><img src=\"https://colab.research.google.com/assets/colab-badge.svg\" alt=\"Open In Colab\"/></a>"
      ]
    },
    {
      "cell_type": "markdown",
      "metadata": {
        "id": "JkQxrOgs5dmZ"
      },
      "source": [
        "<h1>CSV File Reading & Writing</h1>Using the input file grades.csv write a program that creates a file named <b>grades2.csv</b> which in\n",
        "addition to containing all the information from <b>grades.csv</b>, adds a fourth column that contains\n",
        "the Average of the grades for each student."
      ]
    },
    {
      "cell_type": "code",
      "metadata": {
        "colab": {
          "base_uri": "https://localhost:8080/",
          "height": 36
        },
        "id": "e6Khx89D0Tbj",
        "outputId": "5d3cc81b-58fc-46c5-c9d1-eebd16b680d3"
      },
      "source": [
        "#Open the csv file\n",
        "filepath = 'grades.csv'\n",
        "df = open(filepath, \"r\")\n",
        "df.readline()"
      ],
      "execution_count": 54,
      "outputs": [
        {
          "output_type": "execute_result",
          "data": {
            "application/vnd.google.colaboratory.intrinsic+json": {
              "type": "string"
            },
            "text/plain": [
              "'Name, Score1, Score2\\n'"
            ]
          },
          "metadata": {},
          "execution_count": 54
        }
      ]
    },
    {
      "cell_type": "code",
      "metadata": {
        "id": "U4fao2rQ3Ioo"
      },
      "source": [
        "#Create the file being written to\n",
        "outputFile = open('grades2.csv', \"w\")\n",
        "outputFile.write('Name,Score1,Score2,Average\\n')\n",
        "\n",
        "#Copy the data entries and add an average to the last column\n",
        "for line in df:\n",
        "  line = line.split(\",\")\n",
        "  score_1 = float(line[1])\n",
        "  score_2 = float(line[2])\n",
        "  #Take the average score\n",
        "  avg = (score_1 + score_2)/2\n",
        "  #Write to file\n",
        "  outputFile.write('%s,%d,%d,%2.2f\\n'%(line[0], score_1, score_2, avg))\n",
        "#Close new csv file\n",
        "outputFile.close()"
      ],
      "execution_count": 55,
      "outputs": []
    },
    {
      "cell_type": "code",
      "metadata": {
        "id": "MpPXoP4P1p51"
      },
      "source": [
        "#Close original file\n",
        "df.close()"
      ],
      "execution_count": 56,
      "outputs": []
    }
  ]
}