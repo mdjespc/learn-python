{
  "nbformat": 4,
  "nbformat_minor": 0,
  "metadata": {
    "colab": {
      "name": "Module2.ipynb",
      "provenance": [],
      "authorship_tag": "ABX9TyPrJndNmhTSa0uHuVuOxqHj",
      "include_colab_link": true
    },
    "kernelspec": {
      "name": "python3",
      "display_name": "Python 3"
    },
    "language_info": {
      "name": "python"
    }
  },
  "cells": [
    {
      "cell_type": "markdown",
      "metadata": {
        "id": "view-in-github",
        "colab_type": "text"
      },
      "source": [
        "<a href=\"https://colab.research.google.com/github/mdjespc/tutoring/blob/main/Module2.ipynb\" target=\"_parent\"><img src=\"https://colab.research.google.com/assets/colab-badge.svg\" alt=\"Open In Colab\"/></a>"
      ]
    },
    {
      "cell_type": "code",
      "metadata": {
        "id": "9E7XqiEKEIl_"
      },
      "source": [
        "import string"
      ],
      "execution_count": 1,
      "outputs": []
    },
    {
      "cell_type": "code",
      "metadata": {
        "id": "VchEgHiWWKrW"
      },
      "source": [
        "class weather_report:\n",
        "  #storing the month, high, low, precicipation\n",
        "  import matplotlib.pyplot as plt\n",
        "  def __init__(self):\n",
        "    self.high = dict()\n",
        "    self.low = dict()\n",
        "    self.precipitation = dict()\n",
        "    self.months = self.high.keys()\n",
        "    self.length = 0\n",
        "\n",
        "  def __str__(self):\n",
        "    s = 'Month\\tHigh\\tLow\\tPrecipitation\\n-------------------------------------\\n'\n",
        "    for i in self.months:\n",
        "      s += '%s\\t%s\\t%s\\t%s\\n' %(i, self.high[i], self.low[i], self.precipitation[i])\n",
        "    s+='-------------------------------------\\nAVG\\t%s\\t%s\\t%s' %(self.avg_high(), self.avg_low(), self.avg_pre())\n",
        "    s+= '\\nTotal\\t \\t \\t%s\\n'%self.total_pre()\n",
        "    return s\n",
        "\n",
        "  def __len__(self):\n",
        "    return self.length\n",
        "\n",
        "  def append(self, data_entry):\n",
        "    self.high[data_entry[0]] = data_entry[1]\n",
        "    self.low[data_entry[0]] = data_entry[2]\n",
        "    self.precipitation[data_entry[0]] = data_entry[3]\n",
        "    self.length += 1\n",
        "\n",
        "  def avg_high(self):\n",
        "    return sum(float(self.high[i]) for i in self.months)/self.length\n",
        "\n",
        "  def avg_low(self):\n",
        "    return sum(float(self.low[i]) for i in self.months)/self.length\n",
        "\n",
        "  def avg_pre(self):\n",
        "    return sum(float(self.precipitation[i]) for i in self.months)/self.length\n",
        "\n",
        "  def total_pre(self):\n",
        "    return sum(float(self.precipitation[i]) for i in self.months)"
      ],
      "execution_count": 40,
      "outputs": []
    },
    {
      "cell_type": "code",
      "metadata": {
        "id": "xiXtgRoMEOyo"
      },
      "source": [
        "#New object\n",
        "W = weather_report()\n",
        "with open(\"W_Data.csv\", \"r\") as f:\n",
        "  f.readline()\n",
        "  #Collect all data entries in a list\n",
        "  entries = list(i.split(',') for i in f)\n",
        "  for x in entries:\n",
        "     x[len(x)-1] = x[len(x)-1].replace(\"\\n\", \"\")\n",
        "     W.append(x)"
      ],
      "execution_count": 41,
      "outputs": []
    },
    {
      "cell_type": "code",
      "metadata": {
        "colab": {
          "base_uri": "https://localhost:8080/"
        },
        "id": "2zz9mMbodiYk",
        "outputId": "b0dd83ff-0e08-49a5-be66-dbd61340b2a7"
      },
      "source": [
        "print(W)\n",
        "print('Number of entries:', len(W))"
      ],
      "execution_count": 43,
      "outputs": [
        {
          "output_type": "stream",
          "name": "stdout",
          "text": [
            "Month\tHigh\tLow\tPrecipitation\n",
            "-------------------------------------\n",
            "Jan\t40\t-10\t0.8\n",
            "Feb\t45\t-15\t0.9\n",
            "Mar\t55\t0\t1\n",
            "Apr\t60\t20\t1\n",
            "May\t65\t30\t1.1\n",
            "Jun\t70\t40\t1.2\n",
            "Jul\t80\t50\t0.8\n",
            "Aug\t90\t50\t0.7\n",
            "Sept\t75\t30\t0.8\n",
            "Oct\t60\t15\t0.7\n",
            "Nov\t50\t10\t0.5\n",
            "Dec\t45\t5\t0.7\n",
            "-------------------------------------\n",
            "AVG\t61.25\t18.75\t0.85\n",
            "Total\t \t \t10.2\n",
            "\n",
            "Number of entries: 12\n"
          ]
        }
      ]
    }
  ]
}