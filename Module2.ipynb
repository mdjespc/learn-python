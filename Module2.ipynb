{
  "nbformat": 4,
  "nbformat_minor": 0,
  "metadata": {
    "colab": {
      "name": "Module2.ipynb",
      "provenance": [],
      "authorship_tag": "ABX9TyO3NOCYd7J0M/I3+/SKaNYI",
      "include_colab_link": true
    },
    "kernelspec": {
      "name": "python3",
      "display_name": "Python 3"
    },
    "language_info": {
      "name": "python"
    }
  },
  "cells": [
    {
      "cell_type": "markdown",
      "metadata": {
        "id": "view-in-github",
        "colab_type": "text"
      },
      "source": [
        "<a href=\"https://colab.research.google.com/github/mdjespc/tutoring/blob/main/Module2.ipynb\" target=\"_parent\"><img src=\"https://colab.research.google.com/assets/colab-badge.svg\" alt=\"Open In Colab\"/></a>"
      ]
    },
    {
      "cell_type": "code",
      "metadata": {
        "id": "9E7XqiEKEIl_"
      },
      "source": [
        "import string"
      ],
      "execution_count": 67,
      "outputs": []
    },
    {
      "cell_type": "code",
      "metadata": {
        "id": "VchEgHiWWKrW"
      },
      "source": [
        "class weather_report:\n",
        "  #storing the month, high, low, precicipation\n",
        "  def __init__(self):\n",
        "    self.high = dict()\n",
        "    self.low = dict()\n",
        "    self.precipitation = dict()\n",
        "    self.length = 0\n",
        "\n",
        "  def append(self, data_entry):\n",
        "    self.high[data_entry[0]] = data_entry[1]\n",
        "    self.low[data_entry[0]] = data_entry[2]\n",
        "    self.precipitation[data_entry[0]] = data_entry[3]\n",
        "    self.length += 1\n",
        "    \n",
        "  def display(self):\n",
        "    print('High temperatures by month:')\n",
        "    print(self.high)\n",
        "    print('Low temperatures by month:')\n",
        "    print(self.low)\n",
        "    print('Precipitation by month:')\n",
        "    print(self.precipitation)"
      ],
      "execution_count": 66,
      "outputs": []
    },
    {
      "cell_type": "code",
      "metadata": {
        "id": "xiXtgRoMEOyo"
      },
      "source": [
        "#New object\n",
        "W = weather_report()\n",
        "with open(\"W_Data.csv\", \"r\") as f:\n",
        "  f.readline()\n",
        "  #Collect all data entries in a list\n",
        "  entries = list(i.split(',') for i in f)\n",
        "  for x in entries: x[len(x)-1] = x[len(x)-1].replace(\"\\n\", \"\")\n",
        "  for x in entries: W.append(x)"
      ],
      "execution_count": 68,
      "outputs": []
    },
    {
      "cell_type": "code",
      "metadata": {
        "colab": {
          "base_uri": "https://localhost:8080/"
        },
        "id": "2zz9mMbodiYk",
        "outputId": "c69b6230-ef1a-4419-8aa5-837b2f45ea3a"
      },
      "source": [
        "W.display()\n",
        "W.length"
      ],
      "execution_count": 70,
      "outputs": [
        {
          "output_type": "stream",
          "name": "stdout",
          "text": [
            "High temperatures by month:\n",
            "{'Jan': '40', 'Feb': '45', 'Mar': '55', 'Apr': '60', 'May': '65', 'Jun': '70', 'Jul': '80', 'Aug': '90', 'Sept': '75', 'Oct': '60', 'Nov': '50', 'Dec': '45'}\n",
            "Low temperatures by month:\n",
            "{'Jan': '-10', 'Feb': '-15', 'Mar': '0', 'Apr': '20', 'May': '30', 'Jun': '40', 'Jul': '50', 'Aug': '50', 'Sept': '30', 'Oct': '15', 'Nov': '10', 'Dec': '5'}\n",
            "Precipitation by month:\n",
            "{'Jan': '0.8', 'Feb': '0.9', 'Mar': '1', 'Apr': '1', 'May': '1.1', 'Jun': '1.2', 'Jul': '0.8', 'Aug': '0.7', 'Sept': '0.8', 'Oct': '0.7', 'Nov': '0.5', 'Dec': '0.7'}\n"
          ]
        },
        {
          "output_type": "execute_result",
          "data": {
            "text/plain": [
              "12"
            ]
          },
          "metadata": {},
          "execution_count": 70
        }
      ]
    }
  ]
}