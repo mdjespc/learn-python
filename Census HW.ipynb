{
 "cells": [
  {
   "cell_type": "code",
   "execution_count": 9,
   "metadata": {},
   "outputs": [
    {
     "name": "stdout",
     "output_type": "stream",
     "text": [
      "[['California', '38332521'], ['Texas', '26448193'], ['NewYork', '19651127'], ['Florida', '19552860'], ['Illinois', '12882135'], ['Pennsylvania', '12773801'], ['Ohio', '11570808'], ['Georgia', '9992167'], ['Michigan', '9895622'], ['NorthCarolina', '9848060']]\n",
      "\n",
      " [['California', 38332521], ['Texas', 26448193], ['NewYork', 19651127], ['Florida', 19552860], ['Illinois', 12882135], ['Pennsylvania', 12773801], ['Ohio', 11570808], ['Georgia', 9992167], ['Michigan', 9895622], ['NorthCarolina', 9848060]]\n",
      "\n",
      "Total Population: 170947294\n"
     ]
    }
   ],
   "source": [
    "# Write a program that prints a table of the 10 most populus states,\n",
    "#their populations, and percentage of those 10 states\n",
    "\n",
    "data = \"\"\"California 38,332,521 Texas 26,448,193 NewYork 19,651,127\n",
    "    Florida, 19,552,860, Illinois, 12,882,135, Pennsylvania, 12,773,801,\n",
    "    Ohio, 11,570,808, Georgia, 9,992,167, Michigan, 9,895,622,\n",
    "    NorthCarolina, 9,848,060\"\"\"\n",
    "\n",
    "#Go over Notes \"List4\"\n",
    "\n",
    "#rstrip()\n",
    "\n",
    "# Remove \",\"\n",
    "\n",
    "data1 = data.replace(',', '')\n",
    "\n",
    "# Convert to list\n",
    "\n",
    "data2 = list(data1.split()) #split on spaces automatically\n",
    "\n",
    "# Create nested list\n",
    "\n",
    "data = [] #Initialized an array with elements of type <list>\n",
    "k = 0 #Public variable: keeps track of position for j loop. Example: k=3 is Texas\n",
    "\n",
    "'''\n",
    "If we have an array of 20 elements, 10 will be states and 10 will be population. Therefore, our nested list will have 10 \n",
    "lists with a state and a population\n",
    "'''\n",
    "#for i in range(0, len(data2), 2):\n",
    "for i in range(int(len(data2)/2)): #We will end up with half the amount lists\n",
    "    data.append([]) #Inserting an empty list\n",
    "    #Inside each new list, we are going to add 2 elements (State, Population)\n",
    "    for j in range(2):\n",
    "        data[i].append(data2[k]) #Data[i] is the position stated in the for i loop\n",
    "        #data[int(i/2)].append(data2[k])\n",
    "        k+=1\n",
    "        \n",
    "print(data)   \n",
    "\n",
    "# Convert population into integers & find sum of all 10 states\n",
    "\n",
    "def main():\n",
    "    popsum = 0\n",
    "    for i in data:\n",
    "        i[1] = int(i[1]) #i[1] is itself but as an integer\n",
    "        popsum += i[1]  #Accumulates the sum of all populations\n",
    "    \n",
    "    return popsum\n",
    "    \n",
    "\n",
    "total_population = main() #Getting the total population while changing data at the same time\n",
    "print('\\n', data)  #\\n new line \\t tab \\\\ backlash \\'' quote      \n",
    "print('\\nTotal Population: %d' %total_population) #%d = integer %5.2f = float with 2 decimals %s = string\n",
    "\n",
    "\n",
    "\n",
    "# Calculate the percent of each state (the sum)\n",
    "#and put it in the list after the populations \n",
    "\n",
    "\n",
    "# Modify the following to make the display like the example shown\n",
    "\n",
    "##print('{:>8s}{:^4s}{:<12s}'.format('State','Population','Percentage'))\n",
    "##print('*'*5)\n",
    "##for i in range(len(data)):\n",
    "##    print('{:>8s}{:>8d}{:>8.5f}'.format(data[i][0],data[i][1], data[i][2]))\n",
    "##\n",
    "\n"
   ]
  },
  {
   "cell_type": "code",
   "execution_count": null,
   "metadata": {},
   "outputs": [],
   "source": []
  }
 ],
 "metadata": {
  "kernelspec": {
   "display_name": "Python 3",
   "language": "python",
   "name": "python3"
  },
  "language_info": {
   "codemirror_mode": {
    "name": "ipython",
    "version": 3
   },
   "file_extension": ".py",
   "mimetype": "text/x-python",
   "name": "python",
   "nbconvert_exporter": "python",
   "pygments_lexer": "ipython3",
   "version": "3.8.5"
  }
 },
 "nbformat": 4,
 "nbformat_minor": 4
}
