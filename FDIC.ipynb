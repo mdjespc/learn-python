{
  "nbformat": 4,
  "nbformat_minor": 0,
  "metadata": {
    "colab": {
      "name": "FDIC.ipynb",
      "provenance": [],
      "authorship_tag": "ABX9TyOA28e0jKFR8Fn91dGlQenr",
      "include_colab_link": true
    },
    "kernelspec": {
      "name": "python3",
      "display_name": "Python 3"
    },
    "language_info": {
      "name": "python"
    }
  },
  "cells": [
    {
      "cell_type": "markdown",
      "metadata": {
        "id": "view-in-github",
        "colab_type": "text"
      },
      "source": [
        "<a href=\"https://colab.research.google.com/github/mdjespc/tutoring/blob/main/FDIC.ipynb\" target=\"_parent\"><img src=\"https://colab.research.google.com/assets/colab-badge.svg\" alt=\"Open In Colab\"/></a>"
      ]
    },
    {
      "cell_type": "markdown",
      "metadata": {
        "id": "i4vBZIBxckth"
      },
      "source": [
        "##Modify the \"Banks\" file as follows:\n",
        "\n",
        "\n",
        "  o Add attributes to .read_csv( ... ) so that it ignores blank lines and extra columns in the data, but displays\n",
        "a warning. (The data file has been intentionally corrupted and won't work until this has been\n",
        "accomplished. Refer to the PowerPoint slides.\n",
        "\n",
        "\n",
        "  o Print the State ('ST') & 'Closing Year' for rows 35 to 40 inclusively.\n",
        "\n",
        "\n",
        "o Plot two graphs one above the other in a column using \"subplot\".\n",
        "\n",
        "\n",
        "o One graph should plot states on the x-axis and failures on the y-axis sorted in descending order. The\n",
        "other should plot years on the x-axis and failures on the y-axis unsorted."
      ]
    },
    {
      "cell_type": "code",
      "metadata": {
        "id": "lfHdwA4CX-QT"
      },
      "source": [
        "import pandas as pd\n",
        "import matplotlib.pyplot as plt"
      ],
      "execution_count": 2,
      "outputs": []
    },
    {
      "cell_type": "code",
      "metadata": {
        "colab": {
          "base_uri": "https://localhost:8080/",
          "height": 442
        },
        "id": "Zh7LBb5BcdN5",
        "outputId": "2039f645-cdab-4950-db42-32417a733204"
      },
      "source": [
        "failed_banks = pd.read_csv('banklist.csv', error_bad_lines = False,\n",
        "                     warn_bad_lines = True,\n",
        "                     skip_blank_lines = True,\n",
        "                     skipinitialspace = True)\n",
        "failed_banks"
      ],
      "execution_count": 13,
      "outputs": [
        {
          "output_type": "stream",
          "name": "stderr",
          "text": [
            "b'Skipping line 6: expected 7 fields, saw 8\\n'\n"
          ]
        },
        {
          "output_type": "execute_result",
          "data": {
            "text/html": [
              "<div>\n",
              "<style scoped>\n",
              "    .dataframe tbody tr th:only-of-type {\n",
              "        vertical-align: middle;\n",
              "    }\n",
              "\n",
              "    .dataframe tbody tr th {\n",
              "        vertical-align: top;\n",
              "    }\n",
              "\n",
              "    .dataframe thead th {\n",
              "        text-align: right;\n",
              "    }\n",
              "</style>\n",
              "<table border=\"1\" class=\"dataframe\">\n",
              "  <thead>\n",
              "    <tr style=\"text-align: right;\">\n",
              "      <th></th>\n",
              "      <th>Bank Name</th>\n",
              "      <th>City</th>\n",
              "      <th>ST</th>\n",
              "      <th>CERT</th>\n",
              "      <th>Acquiring Institution</th>\n",
              "      <th>Closing Date</th>\n",
              "      <th>Updated Date</th>\n",
              "    </tr>\n",
              "  </thead>\n",
              "  <tbody>\n",
              "    <tr>\n",
              "      <th>0</th>\n",
              "      <td>Proficio Bank</td>\n",
              "      <td>Cottonwood Heights</td>\n",
              "      <td>UT</td>\n",
              "      <td>35495</td>\n",
              "      <td>Cache Valley Bank</td>\n",
              "      <td>3-Mar-17</td>\n",
              "      <td>13-Apr-17</td>\n",
              "    </tr>\n",
              "    <tr>\n",
              "      <th>1</th>\n",
              "      <td>Seaway Bank and Trust Company</td>\n",
              "      <td>Chicago</td>\n",
              "      <td>IL</td>\n",
              "      <td>19328</td>\n",
              "      <td>State Bank of Texas</td>\n",
              "      <td>27-Jan-17</td>\n",
              "      <td>17-Feb-17</td>\n",
              "    </tr>\n",
              "    <tr>\n",
              "      <th>2</th>\n",
              "      <td>Harvest Community Bank</td>\n",
              "      <td>Pennsville</td>\n",
              "      <td>NJ</td>\n",
              "      <td>34951</td>\n",
              "      <td>First-Citizens Bank &amp; Trust Company</td>\n",
              "      <td>13-Jan-17</td>\n",
              "      <td>13-Apr-17</td>\n",
              "    </tr>\n",
              "    <tr>\n",
              "      <th>3</th>\n",
              "      <td>Allied Bank</td>\n",
              "      <td>Mulberry</td>\n",
              "      <td>AR</td>\n",
              "      <td>91</td>\n",
              "      <td>Today's Bank</td>\n",
              "      <td>23-Sep-16</td>\n",
              "      <td>17-Nov-16</td>\n",
              "    </tr>\n",
              "    <tr>\n",
              "      <th>4</th>\n",
              "      <td>The Woodbury Banking Company</td>\n",
              "      <td>Woodbury</td>\n",
              "      <td>GA</td>\n",
              "      <td>11297</td>\n",
              "      <td>United Bank</td>\n",
              "      <td>19-Aug-16</td>\n",
              "      <td>17-Nov-16</td>\n",
              "    </tr>\n",
              "    <tr>\n",
              "      <th>...</th>\n",
              "      <td>...</td>\n",
              "      <td>...</td>\n",
              "      <td>...</td>\n",
              "      <td>...</td>\n",
              "      <td>...</td>\n",
              "      <td>...</td>\n",
              "      <td>...</td>\n",
              "    </tr>\n",
              "    <tr>\n",
              "      <th>545</th>\n",
              "      <td>Superior Bank, FSB</td>\n",
              "      <td>Hinsdale</td>\n",
              "      <td>IL</td>\n",
              "      <td>32646</td>\n",
              "      <td>Superior Federal, FSB</td>\n",
              "      <td>27-Jul-01</td>\n",
              "      <td>19-Aug-14</td>\n",
              "    </tr>\n",
              "    <tr>\n",
              "      <th>546</th>\n",
              "      <td>Malta National Bank</td>\n",
              "      <td>Malta</td>\n",
              "      <td>OH</td>\n",
              "      <td>6629</td>\n",
              "      <td>North Valley Bank</td>\n",
              "      <td>3-May-01</td>\n",
              "      <td>18-Nov-02</td>\n",
              "    </tr>\n",
              "    <tr>\n",
              "      <th>547</th>\n",
              "      <td>First Alliance Bank &amp; Trust Co.</td>\n",
              "      <td>Manchester</td>\n",
              "      <td>NH</td>\n",
              "      <td>34264</td>\n",
              "      <td>Southern New Hampshire Bank &amp; Trust</td>\n",
              "      <td>2-Feb-01</td>\n",
              "      <td>18-Feb-03</td>\n",
              "    </tr>\n",
              "    <tr>\n",
              "      <th>548</th>\n",
              "      <td>National State Bank of Metropolis</td>\n",
              "      <td>Metropolis</td>\n",
              "      <td>IL</td>\n",
              "      <td>3815</td>\n",
              "      <td>Banterra Bank of Marion</td>\n",
              "      <td>14-Dec-00</td>\n",
              "      <td>17-Mar-05</td>\n",
              "    </tr>\n",
              "    <tr>\n",
              "      <th>549</th>\n",
              "      <td>Bank of Honolulu</td>\n",
              "      <td>Honolulu</td>\n",
              "      <td>HI</td>\n",
              "      <td>21029</td>\n",
              "      <td>Bank of the Orient</td>\n",
              "      <td>13-Oct-00</td>\n",
              "      <td>17-Mar-05</td>\n",
              "    </tr>\n",
              "  </tbody>\n",
              "</table>\n",
              "<p>550 rows × 7 columns</p>\n",
              "</div>"
            ],
            "text/plain": [
              "                             Bank Name  ... Updated Date\n",
              "0                        Proficio Bank  ...    13-Apr-17\n",
              "1        Seaway Bank and Trust Company  ...    17-Feb-17\n",
              "2               Harvest Community Bank  ...    13-Apr-17\n",
              "3                          Allied Bank  ...    17-Nov-16\n",
              "4         The Woodbury Banking Company  ...    17-Nov-16\n",
              "..                                 ...  ...          ...\n",
              "545                 Superior Bank, FSB  ...    19-Aug-14\n",
              "546                Malta National Bank  ...    18-Nov-02\n",
              "547    First Alliance Bank & Trust Co.  ...    18-Feb-03\n",
              "548  National State Bank of Metropolis  ...    17-Mar-05\n",
              "549                   Bank of Honolulu  ...    17-Mar-05\n",
              "\n",
              "[550 rows x 7 columns]"
            ]
          },
          "metadata": {},
          "execution_count": 13
        }
      ]
    },
    {
      "cell_type": "code",
      "metadata": {
        "id": "NSvUSrUbenkJ"
      },
      "source": [
        "#Transforming closing dates to closing years\n",
        "failed_banks[\"Closing Year\"] = 0\n",
        "\n",
        "for i in range(len(failed_banks)):\n",
        "    year = failed_banks.loc[i, \"Closing Date\"]\n",
        "    year = int(year[-2:]) + 2000\n",
        "    failed_banks.loc[i, \"Closing Year\"] = year"
      ],
      "execution_count": 27,
      "outputs": []
    },
    {
      "cell_type": "code",
      "metadata": {
        "colab": {
          "base_uri": "https://localhost:8080/",
          "height": 237
        },
        "id": "VMrz3CHLkWzG",
        "outputId": "bb16fadb-8f64-486d-f35e-4ffa44ba4990"
      },
      "source": [
        "#Print the State ('ST') & 'Closing Year' for rows 35 to 40 inclusively.\n",
        "failed_banks[['ST', 'Closing Year']].iloc[35:41]"
      ],
      "execution_count": 50,
      "outputs": [
        {
          "output_type": "execute_result",
          "data": {
            "text/html": [
              "<div>\n",
              "<style scoped>\n",
              "    .dataframe tbody tr th:only-of-type {\n",
              "        vertical-align: middle;\n",
              "    }\n",
              "\n",
              "    .dataframe tbody tr th {\n",
              "        vertical-align: top;\n",
              "    }\n",
              "\n",
              "    .dataframe thead th {\n",
              "        text-align: right;\n",
              "    }\n",
              "</style>\n",
              "<table border=\"1\" class=\"dataframe\">\n",
              "  <thead>\n",
              "    <tr style=\"text-align: right;\">\n",
              "      <th></th>\n",
              "      <th>ST</th>\n",
              "      <th>Closing Year</th>\n",
              "    </tr>\n",
              "  </thead>\n",
              "  <tbody>\n",
              "    <tr>\n",
              "      <th>35</th>\n",
              "      <td>FL</td>\n",
              "      <td>2013</td>\n",
              "    </tr>\n",
              "    <tr>\n",
              "      <th>36</th>\n",
              "      <td>TX</td>\n",
              "      <td>2013</td>\n",
              "    </tr>\n",
              "    <tr>\n",
              "      <th>37</th>\n",
              "      <td>CT</td>\n",
              "      <td>2013</td>\n",
              "    </tr>\n",
              "    <tr>\n",
              "      <th>38</th>\n",
              "      <td>AZ</td>\n",
              "      <td>2013</td>\n",
              "    </tr>\n",
              "    <tr>\n",
              "      <th>39</th>\n",
              "      <td>TN</td>\n",
              "      <td>2013</td>\n",
              "    </tr>\n",
              "    <tr>\n",
              "      <th>40</th>\n",
              "      <td>WI</td>\n",
              "      <td>2013</td>\n",
              "    </tr>\n",
              "  </tbody>\n",
              "</table>\n",
              "</div>"
            ],
            "text/plain": [
              "    ST  Closing Year\n",
              "35  FL          2013\n",
              "36  TX          2013\n",
              "37  CT          2013\n",
              "38  AZ          2013\n",
              "39  TN          2013\n",
              "40  WI          2013"
            ]
          },
          "metadata": {},
          "execution_count": 50
        }
      ]
    },
    {
      "cell_type": "code",
      "metadata": {
        "colab": {
          "base_uri": "https://localhost:8080/",
          "height": 691
        },
        "id": "IR2_TykadFzh",
        "outputId": "0d74280a-de00-4a33-839f-9da4177f9e09"
      },
      "source": [
        "fig, (ax1, ax2) = plt.subplots(2, 1, num = \"Bank Information\", figsize= [12, 11])\n",
        "ax1.set(xlabel = 'State', ylabel = 'Failures', title = 'FDIC Failed Banks')\n",
        "ax2.set(xlabel = 'Year', ylabel = 'Failures', title = 'FDIC Failed Banks')\n",
        "\n",
        "failed_banks[\"ST\"].value_counts(sort = True).plot(kind = \"bar\", ax = ax1, color = \"black\")\n",
        "failed_banks[\"Closing Year\"].value_counts(sort=False).plot(kind=\"bar\", ax = ax2, color = \"orange\")\n",
        "\n",
        "plt.show()"
      ],
      "execution_count": 84,
      "outputs": [
        {
          "output_type": "display_data",
          "data": {
            "image/png": "[encoded data removed]",
            "text/plain": [
              "<Figure size 864x792 with 2 Axes>"
            ]
          },
          "metadata": {
            "needs_background": "light"
          }
        }
      ]
    }
  ]
}