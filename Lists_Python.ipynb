{
 "cells": [
  {
   "cell_type": "code",
   "execution_count": 32,
   "metadata": {},
   "outputs": [],
   "source": [
    "odd = list(range(1, 100, 2)) #List of odd numbers from 1 to 99"
   ]
  },
  {
   "cell_type": "markdown",
   "metadata": {},
   "source": [
    "We want to create a new list of odd numbers divisible by 3, squared. We know that every single element in 'odd' is odd."
   ]
  },
  {
   "cell_type": "code",
   "execution_count": 33,
   "metadata": {},
   "outputs": [
    {
     "name": "stdout",
     "output_type": "stream",
     "text": [
      "[1, 3, 5, 7, 9, 11, 13, 15, 17, 19, 21, 23, 25, 27, 29, 31, 33, 35, 37, 39, 41, 43, 45, 47, 49, 51, 53, 55, 57, 59, 61, 63, 65, 67, 69, 71, 73, 75, 77, 79, 81, 83, 85, 87, 89, 91, 93, 95, 97, 99]\n"
     ]
    }
   ],
   "source": [
    "print(odd)"
   ]
  },
  {
   "cell_type": "markdown",
   "metadata": {},
   "source": [
    "We are making a new odd number list. Populate the new list with the squares of all numbers in 'odd' divisible by 3 <div>$i = 3k \\implies i^2$</div>\n",
    "<div>If $i$ is divisible by $3$, then the division $i/3$ returns a remainder of $0$</div>"
   ]
  },
  {
   "cell_type": "raw",
   "metadata": {},
   "source": [
    "#Modulus\n",
    "a mod b ---> a%b = remainder of (a/b)\n",
    "a is divisible by b if a%b = 0"
   ]
  },
  {
   "cell_type": "code",
   "execution_count": 34,
   "metadata": {},
   "outputs": [],
   "source": [
    "def makeNewOdd(odd):\n",
    "    square_odds = list() #Making a new list\n",
    "    for i in odd: #Iterate through the list\n",
    "        \n",
    "        if i%3 == 0: #Checking if the number we are visiting is divisible by 3\n",
    "            square_odds.append(i**2) #Squaring the number and adding it to our new list\n",
    "            \n",
    "    return square_odds #We are spitting out new list"
   ]
  },
  {
   "cell_type": "code",
   "execution_count": 35,
   "metadata": {},
   "outputs": [
    {
     "name": "stdout",
     "output_type": "stream",
     "text": [
      "[9, 81, 225, 441, 729, 1089, 1521, 2025, 2601, 3249, 3969, 4761, 5625, 6561, 7569, 8649, 9801]\n"
     ]
    }
   ],
   "source": [
    "#makeNewOdd is returning a list, so makeNewOdd has type <list>.\n",
    "#If a function returns nothing, then its a void\n",
    "\n",
    "square_odds = makeNewOdd(odd) #list = list that comes out of a function\n",
    "print(square_odds)"
   ]
  },
  {
   "cell_type": "markdown",
   "metadata": {},
   "source": [
    "## Modifying the new list"
   ]
  },
  {
   "cell_type": "code",
   "execution_count": 36,
   "metadata": {},
   "outputs": [
    {
     "name": "stdout",
     "output_type": "stream",
     "text": [
      "[9, 81, 225, 441, 729, 1089, 1521, 2025, 2601, 3249, 3969, 4761, 6561, 7569, 8649, 9801]\n"
     ]
    }
   ],
   "source": [
    "del square_odds[-5]\n",
    "print(square_odds)"
   ]
  },
  {
   "cell_type": "markdown",
   "metadata": {},
   "source": [
    "<b>Temporary variables</b> can hold on to a value before and after we delete the original"
   ]
  },
  {
   "cell_type": "code",
   "execution_count": 37,
   "metadata": {},
   "outputs": [
    {
     "name": "stdout",
     "output_type": "stream",
     "text": [
      "9801\n",
      "[9, 81, 225, 441, 729, 1089, 1521, 2025, 2601, 3249, 3969, 4761, 6561, 7569, 8649]\n"
     ]
    }
   ],
   "source": [
    "'''\n",
    "temporary = square_odds[-1] #Temporary has become permanently 9801. It has copied its value\n",
    "del square_odds[-1] #We are deleting 9801 from the list. NOT  from temporary\n",
    "print(temporary)\n",
    "'''\n",
    "\n",
    "#POP deletes the last element of a list and returns it (at the same time)\n",
    "print(square_odds.pop())\n",
    "print(square_odds)"
   ]
  },
  {
   "cell_type": "code",
   "execution_count": 38,
   "metadata": {},
   "outputs": [
    {
     "name": "stdout",
     "output_type": "stream",
     "text": [
      "5\n"
     ]
    }
   ],
   "source": [
    "#Searching 1089 and siplaying its index\n",
    "print(square_odds.index(1089))"
   ]
  },
  {
   "cell_type": "code",
   "execution_count": 39,
   "metadata": {},
   "outputs": [
    {
     "name": "stdout",
     "output_type": "stream",
     "text": [
      "[9, 81, 225, 441, 729, 1089, 1521, 2025, 2601, 3249, 3969, 4761, 6561, 7569, 8649, 'end']\n"
     ]
    }
   ],
   "source": [
    "#adding 'end' to the end of the list\n",
    "square_odds.append('end')\n",
    "print(square_odds)"
   ]
  },
  {
   "cell_type": "code",
   "execution_count": null,
   "metadata": {},
   "outputs": [],
   "source": []
  }
 ],
 "metadata": {
  "kernelspec": {
   "display_name": "Python 3",
   "language": "python",
   "name": "python3"
  },
  "language_info": {
   "codemirror_mode": {
    "name": "ipython",
    "version": 3
   },
   "file_extension": ".py",
   "mimetype": "text/x-python",
   "name": "python",
   "nbconvert_exporter": "python",
   "pygments_lexer": "ipython3",
   "version": "3.8.5"
  }
 },
 "nbformat": 4,
 "nbformat_minor": 4
}
