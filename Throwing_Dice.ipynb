{
 "cells": [
  {
   "cell_type": "markdown",
   "metadata": {},
   "source": [
    "# Throwing Dice"
   ]
  },
  {
   "cell_type": "markdown",
   "metadata": {},
   "source": [
    "Goals: to show that the long term frequency of a discrete value on a fair dice is 1/6. What is the average sum of values when throwing 2 fair dice? How can cumsum be implemented into pseudorandomness?<h3>$P(X=1, 2, 3, 4, 5, 6) = 1/6$</h3>"
   ]
  },
  {
   "cell_type": "code",
   "execution_count": 1,
   "metadata": {},
   "outputs": [],
   "source": [
    "import matplotlib.pyplot as plt\n",
    "import numpy as np\n",
    "import random"
   ]
  },
  {
   "cell_type": "code",
   "execution_count": 2,
   "metadata": {},
   "outputs": [],
   "source": [
    "dice = (1, 2, 3, 4, 5 ,6) #Discrete Variable\n",
    "prob_X = 1/6 #Probability that X = 1, 2, 3, 4, 5 or 6\n",
    "trialList = list() #Array of cumulative values of X"
   ]
  },
  {
   "cell_type": "markdown",
   "metadata": {},
   "source": [
    "<b>throwDice(m, n) returns the list of all sums of X (discrete random variable) as we throw m dice, repeated n times.<b> <h4>As $n \\xrightarrow{} \\infty$, $f \\xrightarrow{} P(X)$, where $f$ is the long term frequency of an outcome. In other words, $\\lim_{n \\to \\infty} f = P(X)$</h4>"
   ]
  },
  {
   "cell_type": "code",
   "execution_count": 3,
   "metadata": {},
   "outputs": [],
   "source": [
    "def throwDice(m, n):\n",
    "    sumArray = []\n",
    "    for i in range(n):\n",
    "        sumArray.append(0)\n",
    "        for j in range(m):\n",
    "            sumArray[i] += random.randint(1, 6)             \n",
    "    return sumArray\n"
   ]
  },
  {
   "cell_type": "markdown",
   "metadata": {},
   "source": [
    "<b>np.where(array = value) returns a tuple of one array.</b>\n",
    "<ul><li>To retrieve the array, np.where(array = value) at position 0 must be accesed.</li><li> To access elements in the array, np.where(array = value) at position 0 at position $i$ must be looked at.</li></ul>"
   ]
  },
  {
   "cell_type": "raw",
   "metadata": {},
   "source": [
    "Example:\n",
    "\n",
    "x = np.where(trialList == 7) #Tuple of arrays\n",
    "y = x[0] #Array y = array inside the tuple\n",
    "print(x)\n",
    "print(y)\n",
    "for i in range(len(y)): \n",
    "    print(y[i]) #Printing elements in y"
   ]
  },
  {
   "cell_type": "code",
   "execution_count": 7,
   "metadata": {
    "scrolled": false
   },
   "outputs": [
    {
     "data": {
      "image/png": "[encoded data removed]",
      "text/plain": [
       "<Figure size 576x360 with 1 Axes>"
      ]
     },
     "metadata": {
      "needs_background": "light"
     },
     "output_type": "display_data"
    },
    {
     "name": "stdout",
     "output_type": "stream",
     "text": [
      "X = 2 ---> Frequency: 13855/500000 = 0.028\n",
      "X = 3 ---> Frequency: 27917/500000 = 0.056\n",
      "X = 4 ---> Frequency: 41529/500000 = 0.083\n",
      "X = 5 ---> Frequency: 55341/500000 = 0.111\n",
      "X = 6 ---> Frequency: 69630/500000 = 0.139\n",
      "X = 7 ---> Frequency: 83536/500000 = 0.167\n",
      "X = 8 ---> Frequency: 69441/500000 = 0.139\n",
      "X = 9 ---> Frequency: 55172/500000 = 0.110\n",
      "X = 10 ---> Frequency: 41962/500000 = 0.084\n",
      "X = 11 ---> Frequency: 27708/500000 = 0.055\n",
      "X = 12 ---> Frequency: 13909/500000 = 0.028\n",
      "Total Frequency: 500000/500000 \n",
      "Total Probability:  1.00\n"
     ]
    }
   ],
   "source": [
    "m = 2 #Number of dice thrown per trial\n",
    "n = 500000 #Number of trials\n",
    "\n",
    "\n",
    "trialList = np.array(throwDice(m, n))\n",
    "\n",
    "\n",
    "plt.figure(figsize = [8, 5])\n",
    "plt.hist(trialList)\n",
    "plt.xlabel('Sum')\n",
    "plt.ylabel('n trials')\n",
    "plt.xlim(m, 6*m)\n",
    "plt.show()\n",
    "\n",
    "sumFrequency = 0\n",
    "\n",
    "for i in range(m, 6*m + 1):\n",
    "    event_array = np.where(trialList == i)\n",
    "    event_list = event_array[0] #List of indices where X = i\n",
    "    print('X = %d ---> Frequency: %d/%d = %5.3f' %(i, len(event_list), n, (len(event_list))/n))\n",
    "    sumFrequency += len(event_list)\n",
    "    \n",
    "print('Total Frequency: %d/%d \\nTotal Probability: %5.2f' %(sumFrequency, n, (sumFrequency/n)))"
   ]
  },
  {
   "cell_type": "code",
   "execution_count": null,
   "metadata": {},
   "outputs": [],
   "source": []
  }
 ],
 "metadata": {
  "kernelspec": {
   "display_name": "Python 3",
   "language": "python",
   "name": "python3"
  },
  "language_info": {
   "codemirror_mode": {
    "name": "ipython",
    "version": 3
   },
   "file_extension": ".py",
   "mimetype": "text/x-python",
   "name": "python",
   "nbconvert_exporter": "python",
   "pygments_lexer": "ipython3",
   "version": "3.8.5"
  }
 },
 "nbformat": 4,
 "nbformat_minor": 4
}
